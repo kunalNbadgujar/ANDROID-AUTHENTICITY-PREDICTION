{
  "nbformat": 4,
  "nbformat_minor": 0,
  "metadata": {
    "colab": {
      "provenance": [],
      "collapsed_sections": [
        "CG23R7a9FR3w"
      ],
      "authorship_tag": "ABX9TyNDtgrtCdeJcOKZUEGYnila",
      "include_colab_link": true
    },
    "kernelspec": {
      "name": "python3",
      "display_name": "Python 3"
    },
    "language_info": {
      "name": "python"
    }
  },
  "cells": [
    {
      "cell_type": "markdown",
      "metadata": {
        "id": "view-in-github",
        "colab_type": "text"
      },
      "source": [
        "<a href=\"https://colab.research.google.com/github/kunalNbadgujar/ANDROID-AUTHENTICITY-PREDICTION/blob/main/team_ANDROID_AUTHENTICITY_PREDICTION.ipynb\" target=\"_parent\"><img src=\"https://colab.research.google.com/assets/colab-badge.svg\" alt=\"Open In Colab\"/></a>"
      ]
    },
    {
      "cell_type": "markdown",
      "source": [
        "![Android_logo_2019_(stacked).svg.png](data:image/png;base64,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)"
      ],
      "metadata": {
        "id": "K4DTMym3AkfP"
      }
    },
    {
      "cell_type": "markdown",
      "source": [
        "# **ANDROID AUTHENTICITY PREDICTION**\n",
        "\n",
        "---\n",
        "\n",
        "\n",
        "\n",
        "\n"
      ],
      "metadata": {
        "id": "jLxt2QQRCLvn"
      }
    },
    {
      "cell_type": "markdown",
      "source": [
        "##### *Project Type*    ------------------- Classification\n",
        "##### *Contribution*    --------------------Team\n",
        ".\n",
        "##### *Team Member 1 -*------------Kunal Badgujar \n",
        "##### *Team Member 2 -*------------Aarti Gade\n",
        "##### *Team Member 3 -*------------Vivek Shinde\n",
        "\n",
        "\n",
        "---\n",
        "\n",
        "#### **Project Summary -**\n",
        "\n",
        "\n",
        "\n",
        "\n",
        "---\n",
        "\n",
        "#### **GitHub Link -** https://github.com/kunalNbadgujar/ANDROID-AUTHENTICITY-PREDICTION\n",
        "\n",
        "\n",
        "---\n",
        "\n",
        "\n",
        "\n",
        "\n",
        "#### **Problem Statement**\n",
        "\n",
        "####This dataset consists of apps needed permissions during installation and run-time. We collect apps from three different sources google play, third-party apps and malware dataset. This file contains more than 30,000 Android apps. features extracted at the time of installation and execution. One file contains the name of the features and others contain .apk file corresponding to it extracted permissions with respective package. Apps are collected from Google's play store, hiapk, app china,  Android,  mumayi , gfan  slideme, and pandaapp.  These .apk files collected from the last three years continuously and contain 81 distinct malware families. But, Here you are only supposed to predict whether the app is benign(0) or malware(1).\n",
        "\n",
        "\n",
        "\n",
        "---\n",
        "\n",
        "\n",
        "\n",
        "**Dataset Description:-**\n",
        "\n",
        "\n",
        "1 . App :- Name of the App\n",
        " \n",
        "2 . Package :- OBB/Data package installed in root folder\n",
        " \n",
        "3 . Category :-  App Category (eg. Entertainment, Adventure, puzzle, Action, Antivirus, etc.)\n",
        " \n",
        "4 . Description :- App Description\n",
        " \n",
        "5 . Rating :-  Rating out of 5\n",
        " \n",
        "6 . Number of ratings :- No. of Ratings given by users\n",
        " \n",
        "7 . Price :- Price of the App\n",
        " \n",
        "8 . Related apps :-  Apps related to installed App\n",
        " \n",
        "9 . Dangerous **(D)** permissions count :- No. of Dangerous Permissions allowed by user\n",
        " \n",
        "10 . Safe **(S)** permissions count :- No. of Safe Permissions allowed by user\n",
        " \n",
        "11 . Default : Access DRM content. (S) :- 0 : No , 1 : Yes \n",
        " \n",
        "12 . Default : Access Email provider data (S) :- 0 : No , 1 : Yes \n",
        " \n",
        "13 . Default : Access all system downloads (S) :- 0 : No , 1 : Yes \n",
        " \n",
        "14 . Default : Access download manager. (S) :- 0 : No , 1 : Yes \n",
        " \n",
        "15 . Default : Advanced download manager functions. (S) :- 0 : No , 1 : Yes \n",
        " \n",
        "16 . Default : Audio File Access (S) :- 0 : No , 1 : Yes \n",
        " \n",
        "17 . Default : Install DRM content. (S) :- 0 : No , 1 : Yes \n",
        " \n",
        "18 . Default : Modify Google service configuration (S) :- 0 : No , 1 : Yes \n",
        " \n",
        "19 . Default : Modify Google settings (S) :- 0 : No , 1 : Yes \n",
        " \n",
        "20 . Default : Move application resources (S) :- 0 : No , 1 : Yes \n",
        " \n",
        "21 . Default : Read Google settings (S) :- 0 : No , 1 : Yes \n",
        " \n",
        "22 . Default : Send download notifications. (S) :- 0 : No , 1 : Yes \n",
        " \n",
        "23 . Default : Voice Search Shortcuts (S) :- 0 : No , 1 : Yes \n",
        " \n",
        "24 . Default : access SurfaceFlinger (S) :- 0 : No , 1 : Yes \n",
        " \n",
        "25 . Default : access checkin properties (S) :- 0 : No , 1 : Yes \n",
        " \n",
        "26 . Default : access the cache filesystem (S) :- 0 : No , 1 : Yes \n",
        " \n",
        "27 . Default : access to passwords for Google accounts (S) :- 0 : No , 1 : Yes \n",
        " \n",
        "28 . Default : act as an account authenticator (S) :- 0 : No , 1 : Yes \n",
        " \n",
        "29 . Default : bind to a wallpaper (S) :- 0 : No , 1 : Yes \n",
        " \n",
        "30 . Default : bind to an input method (S) :- 0 : No , 1 : Yes \n",
        " \n",
        "31 . Default : change screen orientation (S) :- 0 : No , 1 : Yes \n",
        " \n",
        "32 . Default : coarse (network-based) location (S) :- 0 : No , 1 : Yes \n",
        " \n",
        "33 . Default : control location update notifications (S) :- 0 : No , 1 : Yes \n",
        " \n",
        "34 . Default : control system backup and restore (S) :- 0 : No , 1 : Yes \n",
        " \n",
        "35 . Default : delete applications (S) :- 0 : No , 1 : Yes \n",
        " \n",
        "36 . Default : delete other applications' caches (S) :- 0 : No , 1 : Yes \n",
        " \n",
        "37 . Default : delete other applications' data (S) :- 0 : No , 1 : Yes \n",
        " \n",
        "38 . Default : directly call any phone numbers (S) :- 0 : No , 1 : Yes \n",
        " \n",
        "39 . Default : directly install applications (S) :- 0 : No , 1 : Yes \n",
        " \n",
        "40 . Default : disable or modify status bar (S) :- 0 : No , 1 : Yes \n",
        " \n",
        "41 . Default : discover known accounts (S) :- 0 : No , 1 : Yes \n",
        " \n",
        "42 . Default : display unauthorized windows (S) :- 0 : No , 1 : Yes \n",
        " \n",
        "43 . Default : enable or disable application components (S) :- 0 : No , 1 : Yes \n",
        " \n",
        "44 . Default : force application to close (S) :- 0 : No , 1 : Yes \n",
        " \n",
        "45 . Default : force device reboot (S) :- 0 : No , 1 : Yes \n",
        " \n",
        "46 . Default : full Internet access (S) :- 0 : No , 1 : Yes \n",
        " \n",
        "47 . Default : interact with a device admin (S) :- 0 : No , 1 : Yes \n",
        " \n",
        "48 . Default : manage application tokens (S) :- 0 : No , 1 : Yes \n",
        " \n",
        "49 . Default : mock location sources for testing (S) :- 0 : No , 1 : Yes \n",
        " \n",
        "50 . Default : modify battery statistics (S) :- 0 : No , 1 : Yes \n",
        " \n",
        "51 . Default : modify secure system settings (S) :- 0 : No , 1 : Yes \n",
        " \n",
        "52 . Default : modify the Google services map (S) :- 0 : No , 1 : Yes \n",
        " \n",
        "53 . Default : modify/delete USB storage contents modify/delete SD card contents (S) :- 0 : No , 1 : Yes \n",
        " \n",
        "54 . Default : monitor and control all application launching (S) :- 0 : No , 1 : Yes \n",
        " \n",
        "55 . Default : partial shutdown (S) :- 0 : No , 1 : Yes \n",
        " \n",
        "56 . Default : permanently disable device (S) :- 0 : No , 1 : Yes \n",
        " \n",
        "57 . Default : permission to install a location provider (S) :- 0 : No , 1 : Yes \n",
        " \n",
        "58 . Default : power device on or off (S) :- 0 : No , 1 : Yes \n",
        " \n",
        "59 . Default : press keys and control buttons (S) :- 0 : No , 1 : Yes \n",
        " \n",
        "60 . Default : prevent app switches (S) :- 0 : No , 1 : Yes \n",
        " \n",
        "61 . Default : read frame buffer (S) :- 0 : No , 1 : Yes \n",
        " \n",
        "62 . Default : read instant messages (S) :- 0 : No , 1 : Yes \n",
        " \n",
        "63 . Default : read phone state and identity (S) :- 0 : No , 1 : Yes \n",
        " \n",
        "64 . Default : record what you type and actions you take (S) :- 0 : No , 1 : Yes \n",
        " \n",
        "65 . Default : reset system to factory defaults (S) :- 0 : No , 1 : Yes \n",
        " \n",
        "66 . Default : run in factory test mode (S) :- 0 : No , 1 : Yes \n",
        " \n",
        "67 . Default : set time (S) :- 0 : No , 1 : Yes \n",
        " \n",
        "68 . Default : set wallpaper size hints (S) :- 0 : No , 1 : Yes \n",
        " \n",
        "69 . Default : start IM service (S) :- 0 : No , 1 : Yes \n",
        " \n",
        "70 . Default : update component usage statistics (S) :- 0 : No , 1 : Yes \n",
        " \n",
        "71 . Default : write contact data (S) :- 0 : No , 1 : Yes \n",
        " \n",
        "72 . Default : write instant messages (S) :- 0 : No , 1 : Yes \n",
        " \n",
        "73 . Development tools : enable application debugging (D) :- 0 : No , 1 : Yes \n",
        " \n",
        "74 . Development tools : limit number of running processes (D) :- 0 : No , 1 : Yes \n",
        " \n",
        "75 . Development tools : make all background applications close (D) :- 0 : No , 1 : Yes \n",
        " \n",
        "76 . Development tools : send Linux signals to applications (D) :- 0 : No , 1 : Yes \n",
        " \n",
        "77 . Hardware controls : change your audio settings (D) :- 0 : No , 1 : Yes \n",
        " \n",
        "78 . Hardware controls : control flashlight (S) :- 0 : No , 1 : Yes \n",
        " \n",
        "79 . Hardware controls : control vibrator (S) :- 0 : No , 1 : Yes \n",
        " \n",
        "80 . Hardware controls : record audio (D) :- 0 : No , 1 : Yes \n",
        " \n",
        "81 . Hardware controls : take pictures and videos (D) :- 0 : No , 1 : Yes \n",
        " \n",
        "82 . Hardware controls : test hardware (S) :- 0 : No , 1 : Yes \n",
        " \n",
        "83 . Network communication : Broadcast data messages to applications. (S) :- 0 : No , 1 : Yes \n",
        " \n",
        "84 . Network communication : control Near Field Communication (D) :- 0 : No , 1 : Yes \n",
        " \n",
        "85 . Network communication : create Bluetooth connections (D) :- 0 : No , 1 : Yes \n",
        " \n",
        "86 . Network communication : download files without notification (S) :- 0 : No , 1 : Yes \n",
        " \n",
        "87 . Network communication : full Internet access (D) :- 0 : No , 1 : Yes \n",
        " \n",
        "88 . Network communication : make/receive Internet calls (D) :- 0 : No , 1 : Yes \n",
        " \n",
        "89 . Network communication : receive data from Internet (S) :- 0 : No , 1 : Yes \n",
        " \n",
        "90 . Network communication : view Wi-Fi state (S) :- 0 : No , 1 : Yes \n",
        " \n",
        "91 . Network communication : view network state (S) :- 0 : No , 1 : Yes \n",
        " \n",
        "92 . Phone calls : intercept outgoing calls (D) :- 0 : No , 1 : Yes \n",
        " \n",
        "93 . Phone calls : modify phone state (S) :- 0 : No , 1 : Yes \n",
        " \n",
        "94 . Phone calls : read phone state and identity (D) :- 0 : No , 1 : Yes \n",
        " \n",
        "95 . Services that cost you money : directly call phone numbers (D) :- 0 : No , 1 : Yes \n",
        " \n",
        "96 . Services that cost you money : send SMS messages (D) :- 0 : No , 1 : Yes \n",
        " \n",
        "97 . Storage : modify/delete USB storage contents modify/delete SD card contents (D) :- 0 : No , 1 : Yes \n",
        " \n",
        "98 . System tools : allow Wi-Fi Multicast reception (D) :- 0 : No , 1 : Yes \n",
        " \n",
        "99 . System tools : automatically start at boot (S) :- 0 : No , 1 : Yes \n",
        " \n",
        "100 . System tools : bluetooth administration (D) :- 0 : No , 1 : Yes \n",
        " \n",
        "101 . System tools : change Wi-Fi state (D) :- 0 : No , 1 : Yes \n",
        " \n",
        "102 . System tools : change background data usage setting (S) :- 0 : No , 1 : Yes \n",
        " \n",
        "103 . System tools : change network connectivity (D) :- 0 : No , 1 : Yes \n",
        " \n",
        "104 . System tools : change your UI settings (D) :- 0 : No , 1 : Yes \n",
        " \n",
        "105 . System tools : delete all application cache data (D) :- 0 : No , 1 : Yes \n",
        " \n",
        "106 . System tools : disable keylock (D) :- 0 : No , 1 : Yes \n",
        " \n",
        "107 . System tools : display system-level alerts (D) :- 0 : No , 1 : Yes \n",
        " \n",
        "108 . System tools : expand/collapse status bar (S) :- 0 : No , 1 : Yes \n",
        " \n",
        "109 . System tools : force stop other applications (S) :- 0 : No , 1 : Yes \n",
        " \n",
        "110 . System tools : format external storage (D) :- 0 : No , 1 : Yes \n",
        " \n",
        "111 . System tools : kill background processes (S) :- 0 : No , 1 : Yes \n",
        " \n",
        "112 . System tools : make application always run (D) :- 0 : No , 1 : Yes \n",
        " \n",
        "113 . System tools : measure application storage space (S) :- 0 : No , 1 : Yes \n",
        " \n",
        "114 . System tools : modify global animation speed (D) :- 0 : No , 1 : Yes \n",
        " \n",
        "115 . System tools : modify global system settings (D) :- 0 : No , 1 : Yes \n",
        " \n",
        "116 . System tools : mount and unmount filesystems (D) :- 0 : No , 1 : Yes \n",
        " \n",
        "117 . System tools : prevent device from sleeping (D) :- 0 : No , 1 : Yes \n",
        " \n",
        "118 . System tools : read subscribed feeds (S) :- 0 : No , 1 : Yes \n",
        " \n",
        "119 . System tools : read sync settings (S) :- 0 : No , 1 : Yes \n",
        " \n",
        "120 . System tools : read sync statistics (S) :- 0 : No , 1 : Yes \n",
        " \n",
        "121 . System tools : read/write to resources owned by diag (S) :- 0 : No , 1 : Yes \n",
        " \n",
        "122 . System tools : reorder running applications (D) :- 0 : No , 1 : Yes \n",
        " \n",
        "123 . System tools : retrieve running applications (D) :- 0 : No , 1 : Yes \n",
        " \n",
        "124 . System tools : send package removed broadcast (S) :- 0 : No , 1 : Yes \n",
        " \n",
        "125 . System tools : send sticky broadcast (S) :- 0 : No , 1 : Yes \n",
        " \n",
        "126 . System tools : set preferred applications (S) :- 0 : No , 1 : Yes \n",
        " \n",
        "127 . System tools : set time zone (D) :- 0 : No , 1 : Yes \n",
        " \n",
        "128 . System tools : set wallpaper (S) :- 0 : No , 1 : Yes \n",
        " \n",
        "129 . System tools : set wallpaper size hints (S) :- 0 : No , 1 : Yes \n",
        " \n",
        "130 . System tools : write Access Point Name settings (D) :- 0 : No , 1 : Yes \n",
        " \n",
        "131 . System tools : write subscribed feeds (D) :- 0 : No , 1 : Yes \n",
        " \n",
        "132 . System tools : write sync settings (D) :- 0 : No , 1 : Yes \n",
        " \n",
        "133 . Your accounts : Blogger (D) :- 0 : No , 1 : Yes \n",
        " \n",
        "134 . Your accounts : Google App Engine (D) :- 0 : No , 1 : Yes \n",
        " \n",
        "135 . Your accounts : Google Docs (D) :- 0 : No , 1 : Yes \n",
        " \n",
        "136 . Your accounts : Google Finance (D) :- 0 : No , 1 : Yes \n",
        " \n",
        "137 . Your accounts : Google Maps (D) :- 0 : No , 1 : Yes \n",
        " \n",
        "138 . Your accounts : Google Spreadsheets (D) :- 0 : No , 1 : Yes \n",
        " \n",
        "139 . Your accounts : Google Voice (D) :- 0 : No , 1 : Yes \n",
        " \n",
        "140 . Your accounts : Google mail (D) :- 0 : No , 1 : Yes \n",
        " \n",
        "141 . Your accounts : Picasa Web Albums (D) :- 0 : No , 1 : Yes \n",
        " \n",
        "142 . Your accounts : YouTube (D) :- 0 : No , 1 : Yes \n",
        " \n",
        "143 . Your accounts : YouTube usernames (D) :- 0 : No , 1 : Yes \n",
        " \n",
        "144 . Your accounts : access all Google services (S) :- 0 : No , 1 : Yes \n",
        " \n",
        "145 . Your accounts : access other Google services (D) :- 0 : No , 1 : Yes \n",
        " \n",
        "146 . Your accounts : act as an account authenticator (D) :- 0 : No , 1 : Yes \n",
        " \n",
        "147 . Your accounts : act as the AccountManagerService (S) :- 0 : No , 1 : Yes \n",
        " \n",
        "148 . Your accounts : contacts data in Google accounts (D) :- 0 : No , 1 : Yes \n",
        " \n",
        "149 . Your accounts : discover known accounts (S) :- 0 : No , 1 : Yes \n",
        " \n",
        "150 . Your accounts : manage the accounts list (D) :- 0 : No , 1 : Yes \n",
        " \n",
        "151 . Your accounts : read Google service configuration (S) :- 0 : No , 1 : Yes \n",
        " \n",
        "152 . Your accounts : use the authentication credentials of an account (D) :- 0 : No , 1 : Yes \n",
        " \n",
        "153 . Your accounts : view configured accounts (S) :- 0 : No , 1 : Yes \n",
        " \n",
        "154 . Your location : access extra location provider commands (S) :- 0 : No , 1 : Yes \n",
        " \n",
        "155 . Your location : coarse (network-based) location (D) :- 0 : No , 1 : Yes \n",
        " \n",
        "156 . Your location : fine (GPS) location (D) :- 0 : No , 1 : Yes \n",
        " \n",
        "157 . Your location : mock location sources for testing (D) :- 0 : No , 1 : Yes \n",
        " \n",
        "158 . Your messages : Read Email attachments (D) :- 0 : No , 1 : Yes \n",
        " \n",
        "159 . Your messages : Send Gmail (S) :- 0 : No , 1 : Yes \n",
        " \n",
        "160 . Your messages : edit SMS or MMS (D) :- 0 : No , 1 : Yes \n",
        " \n",
        "161 . Your messages : modify Gmail (D) :- 0 : No , 1 : Yes \n",
        " \n",
        "162 . Your messages : read Gmail (D) :- 0 : No , 1 : Yes \n",
        " \n",
        "163 . Your messages : read Gmail attachment previews (D) :- 0 : No , 1 : Yes \n",
        " \n",
        "164 . Your messages : read SMS or MMS (D) :- 0 : No , 1 : Yes \n",
        " \n",
        "165 . Your messages : read instant messages (D) :- 0 : No , 1 : Yes \n",
        " \n",
        "166 . Your messages : receive MMS (D) :- 0 : No , 1 : Yes \n",
        " \n",
        "167 . Your messages : receive SMS (D) :- 0 : No , 1 : Yes \n",
        " \n",
        "168 . Your messages : receive WAP (D) :- 0 : No , 1 : Yes \n",
        " \n",
        "169 . Your messages : send SMS-received broadcast (S) :- 0 : No , 1 : Yes \n",
        " \n",
        "170 . Your messages : send WAP-PUSH-received broadcast (S) :- 0 : No , 1 : Yes \n",
        " \n",
        "171 . Your messages : write instant messages (D) :- 0 : No , 1 : Yes \n",
        " \n",
        "172 . Your personal information : add or modify calendar events and send email to guests (D) :- 0 : No , 1 : Yes \n",
        " \n",
        "173 . Your personal information : choose widgets (S) :- 0 : No , 1 : Yes \n",
        " \n",
        "174 . Your personal information : read Browser's history and bookmarks (D) :- 0 : No , 1 : Yes \n",
        " \n",
        "175 . Your personal information : read calendar events (D) :- 0 : No , 1 : Yes \n",
        " \n",
        "176 . Your personal information : read contact data (D) :- 0 : No , 1 : Yes \n",
        " \n",
        "177 . Your personal information : read sensitive log data (D) :- 0 : No , 1 : Yes \n",
        " \n",
        "178 . Your personal information : read user defined dictionary (D) :- 0 : No , 1 : Yes \n",
        " \n",
        "179 . Your personal information : retrieve system internal state (S) :- 0 : No , 1 : Yes \n",
        " \n",
        "180 . Your personal information : set alarm in alarm clock (S) :- 0 : No , 1 : Yes \n",
        " \n",
        "181 . Your personal information : write Browser's history and bookmarks (D) :- 0 : No , 1 : Yes \n",
        " \n",
        "182 . Your personal information : write contact data (D) :- 0 : No , 1 : Yes \n",
        " \n",
        "183 . Your personal information : write to user defined dictionary (S) :- 0 : No , 1 : Yes \n",
        " \n",
        "184 . Class :- 0 : Benign , 1 : Malware\n",
        "\n",
        "\n",
        "---\n",
        "\n"
      ],
      "metadata": {
        "id": "CG23R7a9FR3w"
      }
    },
    {
      "cell_type": "markdown",
      "source": [
        "\n",
        "\n",
        "\n",
        "\n",
        "\n",
        "\n",
        "\n",
        "\n",
        "---\n",
        "\n",
        "\n",
        "\n",
        "---\n",
        "\n",
        "\n",
        "\n",
        "\n",
        "\n",
        "---\n",
        "\n",
        "\n",
        "## ***Let's start !***\n",
        "\n",
        "\n",
        "\n",
        "\n"
      ],
      "metadata": {
        "id": "gR3XPZOGXkVY"
      }
    },
    {
      "cell_type": "code",
      "execution_count": 126,
      "metadata": {
        "id": "9-13s61K8HEe"
      },
      "outputs": [],
      "source": [
        "# Libraries\n",
        "\n",
        "\n",
        "\n",
        "import numpy  as  np\n",
        "import pandas as  pd\n",
        "import matplotlib.pyplot as plt\n",
        "import seaborn as sns \n"
      ]
    },
    {
      "cell_type": "markdown",
      "source": [
        "\n",
        "\n",
        "---\n",
        "\n"
      ],
      "metadata": {
        "id": "geayh167yxwo"
      }
    },
    {
      "cell_type": "code",
      "source": [
        "# Drive Mounting & loading Dataset\n",
        "\n",
        "\n",
        "from google.colab import drive\n",
        "drive.mount('/content/drive')\n",
        "\n",
        "\n"
      ],
      "metadata": {
        "colab": {
          "base_uri": "https://localhost:8080/"
        },
        "id": "p0k4C9VeZFH4",
        "outputId": "c8baf20b-f235-4d90-bf68-78b8cc0200cc"
      },
      "execution_count": 127,
      "outputs": [
        {
          "output_type": "stream",
          "name": "stdout",
          "text": [
            "Drive already mounted at /content/drive; to attempt to forcibly remount, call drive.mount(\"/content/drive\", force_remount=True).\n"
          ]
        }
      ]
    },
    {
      "cell_type": "markdown",
      "source": [
        "\n",
        "\n",
        "---\n",
        "\n"
      ],
      "metadata": {
        "id": "j8rXhbvcyy7G"
      }
    },
    {
      "cell_type": "code",
      "source": [
        "# lets See our Dataset\n",
        "\n",
        "\n",
        "\n",
        "\n",
        "df = pd.read_csv('/content/drive/MyDrive/PROJECT ANDROID AUTHENTICITY PREDICTION/ANDRIOD AUTHENTICITY PREDICTION.csv')\n",
        "df.head()\n",
        "\n"
      ],
      "metadata": {
        "colab": {
          "base_uri": "https://localhost:8080/",
          "height": 664
        },
        "id": "4FIPnheryD7V",
        "outputId": "035b125a-e727-491e-d97b-233ff1a5e33b"
      },
      "execution_count": 128,
      "outputs": [
        {
          "output_type": "execute_result",
          "data": {
            "text/plain": [
              "                              App                                   Package  \\\n",
              "0         Canada Post Corporation                    com.canadapost.android   \n",
              "1                       Word Farm                 com.realcasualgames.words   \n",
              "2            Fortunes of War FREE                        fortunesofwar.free   \n",
              "3  Better Keyboard: Avatar Purple  com.cc.betterkeyboard.skins.avatarpurple   \n",
              "4                      Boxing Day                indiaNIC.android.BoxingDay   \n",
              "\n",
              "           Category                                        Description  \\\n",
              "0          Business  Canada Post Mobile App gives you access to som...   \n",
              "1    Brain & Puzzle  Speed and strategy combine in this exciting wo...   \n",
              "2    Cards & Casino  Fortunes of War is a fast-paced, easy to learn...   \n",
              "3  Libraries & Demo  Skin for Better Keyboard featuring a glossy fe...   \n",
              "4         Lifestyle  Boxing Day by Christopher Jaymes<p>Based on a ...   \n",
              "\n",
              "   Rating  Number of ratings  Price  \\\n",
              "0     3.1                 77   0.00   \n",
              "1     4.3                199   0.00   \n",
              "2     4.1                243   0.00   \n",
              "3     3.6               2589   0.00   \n",
              "4     0.0                  0   5.99   \n",
              "\n",
              "                                        Related apps  \\\n",
              "0  {com.adaffix.pub.ca.android, com.kevinquan.gas...   \n",
              "1  {air.com.zubawing.FastWordLite, com.joybits.do...   \n",
              "2  {com.kevinquan.condado, hu.monsta.pazaak, net....   \n",
              "3  {eu.gdumoulin.betterandroid.skins.transparent....   \n",
              "4                                                NaN   \n",
              "\n",
              "   Dangerous permissions count  Safe permissions count  ...  \\\n",
              "0                          7.0                       1  ...   \n",
              "1                          3.0                       2  ...   \n",
              "2                          1.0                       1  ...   \n",
              "3                          0.0                       0  ...   \n",
              "4                          1.0                       0  ...   \n",
              "\n",
              "   Your personal information : read calendar events (D)  \\\n",
              "0                                                  0      \n",
              "1                                                  0      \n",
              "2                                                  0      \n",
              "3                                                  0      \n",
              "4                                                  0      \n",
              "\n",
              "   Your personal information : read contact data (D)  \\\n",
              "0                                                  1   \n",
              "1                                                  0   \n",
              "2                                                  0   \n",
              "3                                                  0   \n",
              "4                                                  0   \n",
              "\n",
              "   Your personal information : read sensitive log data (D)  \\\n",
              "0                                                  0         \n",
              "1                                                  0         \n",
              "2                                                  0         \n",
              "3                                                  0         \n",
              "4                                                  0         \n",
              "\n",
              "   Your personal information : read user defined dictionary (D)  \\\n",
              "0                                                  0              \n",
              "1                                                  0              \n",
              "2                                                  0              \n",
              "3                                                  0              \n",
              "4                                                  0              \n",
              "\n",
              "   Your personal information : retrieve system internal state (S)  \\\n",
              "0                                                  0                \n",
              "1                                                  0                \n",
              "2                                                  0                \n",
              "3                                                  0                \n",
              "4                                                  0                \n",
              "\n",
              "   Your personal information : set alarm in alarm clock (S)  \\\n",
              "0                                                  0          \n",
              "1                                                  0          \n",
              "2                                                  0          \n",
              "3                                                  0          \n",
              "4                                                  0          \n",
              "\n",
              "   Your personal information : write Browser's history and bookmarks (D)  \\\n",
              "0                                                  0                       \n",
              "1                                                  0                       \n",
              "2                                                  0                       \n",
              "3                                                  0                       \n",
              "4                                                  0                       \n",
              "\n",
              "   Your personal information : write contact data (D)  \\\n",
              "0                                                  1    \n",
              "1                                                  0    \n",
              "2                                                  0    \n",
              "3                                                  0    \n",
              "4                                                  0    \n",
              "\n",
              "   Your personal information : write to user defined dictionary (S)  Class  \n",
              "0                                                  0                     0  \n",
              "1                                                  0                     0  \n",
              "2                                                  0                     0  \n",
              "3                                                  0                     0  \n",
              "4                                                  0                     1  \n",
              "\n",
              "[5 rows x 184 columns]"
            ],
            "text/html": [
              "\n",
              "  <div id=\"df-9f5268a1-3971-47d1-8a30-f942d3fd278b\">\n",
              "    <div class=\"colab-df-container\">\n",
              "      <div>\n",
              "<style scoped>\n",
              "    .dataframe tbody tr th:only-of-type {\n",
              "        vertical-align: middle;\n",
              "    }\n",
              "\n",
              "    .dataframe tbody tr th {\n",
              "        vertical-align: top;\n",
              "    }\n",
              "\n",
              "    .dataframe thead th {\n",
              "        text-align: right;\n",
              "    }\n",
              "</style>\n",
              "<table border=\"1\" class=\"dataframe\">\n",
              "  <thead>\n",
              "    <tr style=\"text-align: right;\">\n",
              "      <th></th>\n",
              "      <th>App</th>\n",
              "      <th>Package</th>\n",
              "      <th>Category</th>\n",
              "      <th>Description</th>\n",
              "      <th>Rating</th>\n",
              "      <th>Number of ratings</th>\n",
              "      <th>Price</th>\n",
              "      <th>Related apps</th>\n",
              "      <th>Dangerous permissions count</th>\n",
              "      <th>Safe permissions count</th>\n",
              "      <th>...</th>\n",
              "      <th>Your personal information : read calendar events (D)</th>\n",
              "      <th>Your personal information : read contact data (D)</th>\n",
              "      <th>Your personal information : read sensitive log data (D)</th>\n",
              "      <th>Your personal information : read user defined dictionary (D)</th>\n",
              "      <th>Your personal information : retrieve system internal state (S)</th>\n",
              "      <th>Your personal information : set alarm in alarm clock (S)</th>\n",
              "      <th>Your personal information : write Browser's history and bookmarks (D)</th>\n",
              "      <th>Your personal information : write contact data (D)</th>\n",
              "      <th>Your personal information : write to user defined dictionary (S)</th>\n",
              "      <th>Class</th>\n",
              "    </tr>\n",
              "  </thead>\n",
              "  <tbody>\n",
              "    <tr>\n",
              "      <th>0</th>\n",
              "      <td>Canada Post Corporation</td>\n",
              "      <td>com.canadapost.android</td>\n",
              "      <td>Business</td>\n",
              "      <td>Canada Post Mobile App gives you access to som...</td>\n",
              "      <td>3.1</td>\n",
              "      <td>77</td>\n",
              "      <td>0.00</td>\n",
              "      <td>{com.adaffix.pub.ca.android, com.kevinquan.gas...</td>\n",
              "      <td>7.0</td>\n",
              "      <td>1</td>\n",
              "      <td>...</td>\n",
              "      <td>0</td>\n",
              "      <td>1</td>\n",
              "      <td>0</td>\n",
              "      <td>0</td>\n",
              "      <td>0</td>\n",
              "      <td>0</td>\n",
              "      <td>0</td>\n",
              "      <td>1</td>\n",
              "      <td>0</td>\n",
              "      <td>0</td>\n",
              "    </tr>\n",
              "    <tr>\n",
              "      <th>1</th>\n",
              "      <td>Word Farm</td>\n",
              "      <td>com.realcasualgames.words</td>\n",
              "      <td>Brain &amp; Puzzle</td>\n",
              "      <td>Speed and strategy combine in this exciting wo...</td>\n",
              "      <td>4.3</td>\n",
              "      <td>199</td>\n",
              "      <td>0.00</td>\n",
              "      <td>{air.com.zubawing.FastWordLite, com.joybits.do...</td>\n",
              "      <td>3.0</td>\n",
              "      <td>2</td>\n",
              "      <td>...</td>\n",
              "      <td>0</td>\n",
              "      <td>0</td>\n",
              "      <td>0</td>\n",
              "      <td>0</td>\n",
              "      <td>0</td>\n",
              "      <td>0</td>\n",
              "      <td>0</td>\n",
              "      <td>0</td>\n",
              "      <td>0</td>\n",
              "      <td>0</td>\n",
              "    </tr>\n",
              "    <tr>\n",
              "      <th>2</th>\n",
              "      <td>Fortunes of War FREE</td>\n",
              "      <td>fortunesofwar.free</td>\n",
              "      <td>Cards &amp; Casino</td>\n",
              "      <td>Fortunes of War is a fast-paced, easy to learn...</td>\n",
              "      <td>4.1</td>\n",
              "      <td>243</td>\n",
              "      <td>0.00</td>\n",
              "      <td>{com.kevinquan.condado, hu.monsta.pazaak, net....</td>\n",
              "      <td>1.0</td>\n",
              "      <td>1</td>\n",
              "      <td>...</td>\n",
              "      <td>0</td>\n",
              "      <td>0</td>\n",
              "      <td>0</td>\n",
              "      <td>0</td>\n",
              "      <td>0</td>\n",
              "      <td>0</td>\n",
              "      <td>0</td>\n",
              "      <td>0</td>\n",
              "      <td>0</td>\n",
              "      <td>0</td>\n",
              "    </tr>\n",
              "    <tr>\n",
              "      <th>3</th>\n",
              "      <td>Better Keyboard: Avatar Purple</td>\n",
              "      <td>com.cc.betterkeyboard.skins.avatarpurple</td>\n",
              "      <td>Libraries &amp; Demo</td>\n",
              "      <td>Skin for Better Keyboard featuring a glossy fe...</td>\n",
              "      <td>3.6</td>\n",
              "      <td>2589</td>\n",
              "      <td>0.00</td>\n",
              "      <td>{eu.gdumoulin.betterandroid.skins.transparent....</td>\n",
              "      <td>0.0</td>\n",
              "      <td>0</td>\n",
              "      <td>...</td>\n",
              "      <td>0</td>\n",
              "      <td>0</td>\n",
              "      <td>0</td>\n",
              "      <td>0</td>\n",
              "      <td>0</td>\n",
              "      <td>0</td>\n",
              "      <td>0</td>\n",
              "      <td>0</td>\n",
              "      <td>0</td>\n",
              "      <td>0</td>\n",
              "    </tr>\n",
              "    <tr>\n",
              "      <th>4</th>\n",
              "      <td>Boxing Day</td>\n",
              "      <td>indiaNIC.android.BoxingDay</td>\n",
              "      <td>Lifestyle</td>\n",
              "      <td>Boxing Day by Christopher Jaymes&lt;p&gt;Based on a ...</td>\n",
              "      <td>0.0</td>\n",
              "      <td>0</td>\n",
              "      <td>5.99</td>\n",
              "      <td>NaN</td>\n",
              "      <td>1.0</td>\n",
              "      <td>0</td>\n",
              "      <td>...</td>\n",
              "      <td>0</td>\n",
              "      <td>0</td>\n",
              "      <td>0</td>\n",
              "      <td>0</td>\n",
              "      <td>0</td>\n",
              "      <td>0</td>\n",
              "      <td>0</td>\n",
              "      <td>0</td>\n",
              "      <td>0</td>\n",
              "      <td>1</td>\n",
              "    </tr>\n",
              "  </tbody>\n",
              "</table>\n",
              "<p>5 rows × 184 columns</p>\n",
              "</div>\n",
              "      <button class=\"colab-df-convert\" onclick=\"convertToInteractive('df-9f5268a1-3971-47d1-8a30-f942d3fd278b')\"\n",
              "              title=\"Convert this dataframe to an interactive table.\"\n",
              "              style=\"display:none;\">\n",
              "        \n",
              "  <svg xmlns=\"http://www.w3.org/2000/svg\" height=\"24px\"viewBox=\"0 0 24 24\"\n",
              "       width=\"24px\">\n",
              "    <path d=\"M0 0h24v24H0V0z\" fill=\"none\"/>\n",
              "    <path d=\"M18.56 5.44l.94 2.06.94-2.06 2.06-.94-2.06-.94-.94-2.06-.94 2.06-2.06.94zm-11 1L8.5 8.5l.94-2.06 2.06-.94-2.06-.94L8.5 2.5l-.94 2.06-2.06.94zm10 10l.94 2.06.94-2.06 2.06-.94-2.06-.94-.94-2.06-.94 2.06-2.06.94z\"/><path d=\"M17.41 7.96l-1.37-1.37c-.4-.4-.92-.59-1.43-.59-.52 0-1.04.2-1.43.59L10.3 9.45l-7.72 7.72c-.78.78-.78 2.05 0 2.83L4 21.41c.39.39.9.59 1.41.59.51 0 1.02-.2 1.41-.59l7.78-7.78 2.81-2.81c.8-.78.8-2.07 0-2.86zM5.41 20L4 18.59l7.72-7.72 1.47 1.35L5.41 20z\"/>\n",
              "  </svg>\n",
              "      </button>\n",
              "      \n",
              "  <style>\n",
              "    .colab-df-container {\n",
              "      display:flex;\n",
              "      flex-wrap:wrap;\n",
              "      gap: 12px;\n",
              "    }\n",
              "\n",
              "    .colab-df-convert {\n",
              "      background-color: #E8F0FE;\n",
              "      border: none;\n",
              "      border-radius: 50%;\n",
              "      cursor: pointer;\n",
              "      display: none;\n",
              "      fill: #1967D2;\n",
              "      height: 32px;\n",
              "      padding: 0 0 0 0;\n",
              "      width: 32px;\n",
              "    }\n",
              "\n",
              "    .colab-df-convert:hover {\n",
              "      background-color: #E2EBFA;\n",
              "      box-shadow: 0px 1px 2px rgba(60, 64, 67, 0.3), 0px 1px 3px 1px rgba(60, 64, 67, 0.15);\n",
              "      fill: #174EA6;\n",
              "    }\n",
              "\n",
              "    [theme=dark] .colab-df-convert {\n",
              "      background-color: #3B4455;\n",
              "      fill: #D2E3FC;\n",
              "    }\n",
              "\n",
              "    [theme=dark] .colab-df-convert:hover {\n",
              "      background-color: #434B5C;\n",
              "      box-shadow: 0px 1px 3px 1px rgba(0, 0, 0, 0.15);\n",
              "      filter: drop-shadow(0px 1px 2px rgba(0, 0, 0, 0.3));\n",
              "      fill: #FFFFFF;\n",
              "    }\n",
              "  </style>\n",
              "\n",
              "      <script>\n",
              "        const buttonEl =\n",
              "          document.querySelector('#df-9f5268a1-3971-47d1-8a30-f942d3fd278b button.colab-df-convert');\n",
              "        buttonEl.style.display =\n",
              "          google.colab.kernel.accessAllowed ? 'block' : 'none';\n",
              "\n",
              "        async function convertToInteractive(key) {\n",
              "          const element = document.querySelector('#df-9f5268a1-3971-47d1-8a30-f942d3fd278b');\n",
              "          const dataTable =\n",
              "            await google.colab.kernel.invokeFunction('convertToInteractive',\n",
              "                                                     [key], {});\n",
              "          if (!dataTable) return;\n",
              "\n",
              "          const docLinkHtml = 'Like what you see? Visit the ' +\n",
              "            '<a target=\"_blank\" href=https://colab.research.google.com/notebooks/data_table.ipynb>data table notebook</a>'\n",
              "            + ' to learn more about interactive tables.';\n",
              "          element.innerHTML = '';\n",
              "          dataTable['output_type'] = 'display_data';\n",
              "          await google.colab.output.renderOutput(dataTable, element);\n",
              "          const docLink = document.createElement('div');\n",
              "          docLink.innerHTML = docLinkHtml;\n",
              "          element.appendChild(docLink);\n",
              "        }\n",
              "      </script>\n",
              "    </div>\n",
              "  </div>\n",
              "  "
            ]
          },
          "metadata": {},
          "execution_count": 128
        }
      ]
    },
    {
      "cell_type": "markdown",
      "source": [
        "\n",
        "\n",
        "---\n",
        "\n"
      ],
      "metadata": {
        "id": "-WfyYMzXy0bT"
      }
    },
    {
      "cell_type": "markdown",
      "source": [
        "\n",
        "\n",
        "---\n",
        "\n"
      ],
      "metadata": {
        "id": "cVqFfSYmzRNI"
      }
    },
    {
      "cell_type": "code",
      "source": [
        "# checking the Info \n",
        "\n",
        "\n",
        "df.info(verbose='true',show_counts='true')\n",
        "\n",
        "\n"
      ],
      "metadata": {
        "colab": {
          "base_uri": "https://localhost:8080/"
        },
        "id": "4tpzHckSzMsd",
        "outputId": "149903d7-438d-4386-bee8-a9fa6a32440b"
      },
      "execution_count": 129,
      "outputs": [
        {
          "output_type": "stream",
          "name": "stdout",
          "text": [
            "<class 'pandas.core.frame.DataFrame'>\n",
            "RangeIndex: 29999 entries, 0 to 29998\n",
            "Data columns (total 184 columns):\n",
            " #    Column                                                                                  Non-Null Count  Dtype  \n",
            "---   ------                                                                                  --------------  -----  \n",
            " 0    App                                                                                     29998 non-null  object \n",
            " 1    Package                                                                                 29999 non-null  object \n",
            " 2    Category                                                                                29999 non-null  object \n",
            " 3    Description                                                                             29996 non-null  object \n",
            " 4    Rating                                                                                  29999 non-null  float64\n",
            " 5    Number of ratings                                                                       29999 non-null  int64  \n",
            " 6    Price                                                                                   29999 non-null  float64\n",
            " 7    Related apps                                                                            29244 non-null  object \n",
            " 8    Dangerous permissions count                                                             29795 non-null  float64\n",
            " 9    Safe permissions count                                                                  29999 non-null  int64  \n",
            " 10   Default : Access DRM content. (S)                                                       29999 non-null  int64  \n",
            " 11   Default : Access Email provider data (S)                                                29999 non-null  int64  \n",
            " 12   Default : Access all system downloads (S)                                               29999 non-null  int64  \n",
            " 13   Default : Access download manager. (S)                                                  29999 non-null  int64  \n",
            " 14   Default : Advanced download manager functions. (S)                                      29999 non-null  int64  \n",
            " 15   Default : Audio File Access (S)                                                         29999 non-null  int64  \n",
            " 16   Default : Install DRM content. (S)                                                      29999 non-null  int64  \n",
            " 17   Default : Modify Google service configuration (S)                                       29999 non-null  int64  \n",
            " 18   Default : Modify Google settings (S)                                                    29999 non-null  int64  \n",
            " 19   Default : Move application resources (S)                                                29999 non-null  int64  \n",
            " 20   Default : Read Google settings (S)                                                      29999 non-null  int64  \n",
            " 21   Default : Send download notifications. (S)                                              29999 non-null  int64  \n",
            " 22   Default : Voice Search Shortcuts (S)                                                    29999 non-null  int64  \n",
            " 23   Default : access SurfaceFlinger (S)                                                     29999 non-null  int64  \n",
            " 24   Default : access checkin properties (S)                                                 29999 non-null  int64  \n",
            " 25   Default : access the cache filesystem (S)                                               29999 non-null  int64  \n",
            " 26   Default : access to passwords for Google accounts (S)                                   29999 non-null  int64  \n",
            " 27   Default : act as an account authenticator (S)                                           29999 non-null  int64  \n",
            " 28   Default : bind to a wallpaper (S)                                                       29999 non-null  int64  \n",
            " 29   Default : bind to an input method (S)                                                   29999 non-null  int64  \n",
            " 30   Default : change screen orientation (S)                                                 29999 non-null  int64  \n",
            " 31   Default : coarse (network-based) location (S)                                           29999 non-null  int64  \n",
            " 32   Default : control location update notifications (S)                                     29999 non-null  int64  \n",
            " 33   Default : control system backup and restore (S)                                         29999 non-null  int64  \n",
            " 34   Default : delete applications (S)                                                       29999 non-null  int64  \n",
            " 35   Default : delete other applications' caches (S)                                         29999 non-null  int64  \n",
            " 36   Default : delete other applications' data (S)                                           29999 non-null  int64  \n",
            " 37   Default : directly call any phone numbers (S)                                           29999 non-null  int64  \n",
            " 38   Default : directly install applications (S)                                             29999 non-null  int64  \n",
            " 39   Default : disable or modify status bar (S)                                              29999 non-null  int64  \n",
            " 40   Default : discover known accounts (S)                                                   29999 non-null  int64  \n",
            " 41   Default : display unauthorized windows (S)                                              29999 non-null  int64  \n",
            " 42   Default : enable or disable application components (S)                                  29999 non-null  int64  \n",
            " 43   Default : force application to close (S)                                                29999 non-null  int64  \n",
            " 44   Default : force device reboot (S)                                                       29999 non-null  int64  \n",
            " 45   Default : full Internet access (S)                                                      29999 non-null  int64  \n",
            " 46   Default : interact with a device admin (S)                                              29999 non-null  int64  \n",
            " 47   Default : manage application tokens (S)                                                 29999 non-null  int64  \n",
            " 48   Default : mock location sources for testing (S)                                         29999 non-null  int64  \n",
            " 49   Default : modify battery statistics (S)                                                 29999 non-null  int64  \n",
            " 50   Default : modify secure system settings (S)                                             29999 non-null  int64  \n",
            " 51   Default : modify the Google services map (S)                                            29999 non-null  int64  \n",
            " 52   Default : modify/delete USB storage contents modify/delete SD card contents (S)         29999 non-null  int64  \n",
            " 53   Default : monitor and control all application launching (S)                             29999 non-null  int64  \n",
            " 54   Default : partial shutdown (S)                                                          29999 non-null  int64  \n",
            " 55   Default : permanently disable device (S)                                                29999 non-null  int64  \n",
            " 56   Default : permission to install a location provider (S)                                 29999 non-null  int64  \n",
            " 57   Default : power device on or off (S)                                                    29999 non-null  int64  \n",
            " 58   Default : press keys and control buttons (S)                                            29999 non-null  int64  \n",
            " 59   Default : prevent app switches (S)                                                      29999 non-null  int64  \n",
            " 60   Default : read frame buffer (S)                                                         29999 non-null  int64  \n",
            " 61   Default : read instant messages (S)                                                     29999 non-null  int64  \n",
            " 62   Default : read phone state and identity (S)                                             29999 non-null  int64  \n",
            " 63   Default : record what you type and actions you take (S)                                 29999 non-null  int64  \n",
            " 64   Default : reset system to factory defaults (S)                                          29999 non-null  int64  \n",
            " 65   Default : run in factory test mode (S)                                                  29999 non-null  int64  \n",
            " 66   Default : set time (S)                                                                  29999 non-null  int64  \n",
            " 67   Default : set wallpaper size hints (S)                                                  29999 non-null  int64  \n",
            " 68   Default : start IM service (S)                                                          29999 non-null  int64  \n",
            " 69   Default : update component usage statistics (S)                                         29999 non-null  int64  \n",
            " 70   Default : write contact data (S)                                                        29999 non-null  int64  \n",
            " 71   Default : write instant messages (S)                                                    29999 non-null  int64  \n",
            " 72   Development tools : enable application debugging (D)                                    29999 non-null  int64  \n",
            " 73   Development tools : limit number of running processes (D)                               29999 non-null  int64  \n",
            " 74   Development tools : make all background applications close (D)                          29999 non-null  int64  \n",
            " 75   Development tools : send Linux signals to applications (D)                              29999 non-null  int64  \n",
            " 76   Hardware controls : change your audio settings (D)                                      29999 non-null  int64  \n",
            " 77   Hardware controls : control flashlight (S)                                              29999 non-null  int64  \n",
            " 78   Hardware controls : control vibrator (S)                                                29999 non-null  int64  \n",
            " 79   Hardware controls : record audio (D)                                                    29999 non-null  int64  \n",
            " 80   Hardware controls : take pictures and videos (D)                                        29999 non-null  int64  \n",
            " 81   Hardware controls : test hardware (S)                                                   29999 non-null  int64  \n",
            " 82   Network communication : Broadcast data messages to applications. (S)                    29999 non-null  int64  \n",
            " 83   Network communication : control Near Field Communication (D)                            29999 non-null  int64  \n",
            " 84   Network communication : create Bluetooth connections (D)                                29999 non-null  int64  \n",
            " 85   Network communication : download files without notification (S)                         29999 non-null  int64  \n",
            " 86   Network communication : full Internet access (D)                                        29999 non-null  int64  \n",
            " 87   Network communication : make/receive Internet calls (D)                                 29999 non-null  int64  \n",
            " 88   Network communication : receive data from Internet (S)                                  29999 non-null  int64  \n",
            " 89   Network communication : view Wi-Fi state (S)                                            29999 non-null  int64  \n",
            " 90   Network communication : view network state (S)                                          29999 non-null  int64  \n",
            " 91   Phone calls : intercept outgoing calls (D)                                              29999 non-null  int64  \n",
            " 92   Phone calls : modify phone state (S)                                                    29999 non-null  int64  \n",
            " 93   Phone calls : read phone state and identity (D)                                         29999 non-null  int64  \n",
            " 94   Services that cost you money : directly call phone numbers (D)                          29999 non-null  int64  \n",
            " 95   Services that cost you money : send SMS messages (D)                                    29999 non-null  int64  \n",
            " 96   Storage : modify/delete USB storage contents modify/delete SD card contents (D)         29999 non-null  int64  \n",
            " 97   System tools : allow Wi-Fi Multicast reception (D)                                      29999 non-null  int64  \n",
            " 98   System tools : automatically start at boot (S)                                          29999 non-null  int64  \n",
            " 99   System tools : bluetooth administration (D)                                             29999 non-null  int64  \n",
            " 100  System tools : change Wi-Fi state (D)                                                   29999 non-null  int64  \n",
            " 101  System tools : change background data usage setting (S)                                 29999 non-null  int64  \n",
            " 102  System tools : change network connectivity (D)                                          29999 non-null  int64  \n",
            " 103  System tools : change your UI settings (D)                                              29999 non-null  int64  \n",
            " 104  System tools : delete all application cache data (D)                                    29999 non-null  int64  \n",
            " 105  System tools : disable keylock (D)                                                      29999 non-null  int64  \n",
            " 106  System tools : display system-level alerts (D)                                          29999 non-null  int64  \n",
            " 107  System tools : expand/collapse status bar (S)                                           29999 non-null  int64  \n",
            " 108  System tools : force stop other applications (S)                                        29999 non-null  int64  \n",
            " 109  System tools : format external storage (D)                                              29999 non-null  int64  \n",
            " 110  System tools : kill background processes (S)                                            29999 non-null  int64  \n",
            " 111  System tools : make application always run (D)                                          29999 non-null  int64  \n",
            " 112  System tools : measure application storage space (S)                                    29999 non-null  int64  \n",
            " 113  System tools : modify global animation speed (D)                                        29999 non-null  int64  \n",
            " 114  System tools : modify global system settings (D)                                        29999 non-null  int64  \n",
            " 115  System tools : mount and unmount filesystems (D)                                        29999 non-null  int64  \n",
            " 116  System tools : prevent device from sleeping (D)                                         29999 non-null  int64  \n",
            " 117  System tools : read subscribed feeds (S)                                                29999 non-null  int64  \n",
            " 118  System tools : read sync settings (S)                                                   29999 non-null  int64  \n",
            " 119  System tools : read sync statistics (S)                                                 29999 non-null  int64  \n",
            " 120  System tools : read/write to resources owned by diag (S)                                29999 non-null  int64  \n",
            " 121  System tools : reorder running applications (D)                                         29999 non-null  int64  \n",
            " 122  System tools : retrieve running applications (D)                                        29999 non-null  int64  \n",
            " 123  System tools : send package removed broadcast (S)                                       29999 non-null  int64  \n",
            " 124  System tools : send sticky broadcast (S)                                                29999 non-null  int64  \n",
            " 125  System tools : set preferred applications (S)                                           29999 non-null  int64  \n",
            " 126  System tools : set time zone (D)                                                        29999 non-null  int64  \n",
            " 127  System tools : set wallpaper (S)                                                        29999 non-null  int64  \n",
            " 128  System tools : set wallpaper size hints (S)                                             29999 non-null  int64  \n",
            " 129  System tools : write Access Point Name settings (D)                                     29999 non-null  int64  \n",
            " 130  System tools : write subscribed feeds (D)                                               29999 non-null  int64  \n",
            " 131  System tools : write sync settings (D)                                                  29999 non-null  int64  \n",
            " 132  Your accounts : Blogger (D)                                                             29999 non-null  int64  \n",
            " 133  Your accounts : Google App Engine (D)                                                   29999 non-null  int64  \n",
            " 134  Your accounts : Google Docs (D)                                                         29999 non-null  int64  \n",
            " 135  Your accounts : Google Finance (D)                                                      29999 non-null  int64  \n",
            " 136  Your accounts : Google Maps (D)                                                         29999 non-null  int64  \n",
            " 137  Your accounts : Google Spreadsheets (D)                                                 29999 non-null  int64  \n",
            " 138  Your accounts : Google Voice (D)                                                        29999 non-null  int64  \n",
            " 139  Your accounts : Google mail (D)                                                         29999 non-null  int64  \n",
            " 140  Your accounts : Picasa Web Albums (D)                                                   29999 non-null  int64  \n",
            " 141  Your accounts : YouTube (D)                                                             29999 non-null  int64  \n",
            " 142  Your accounts : YouTube usernames (D)                                                   29999 non-null  int64  \n",
            " 143  Your accounts : access all Google services (S)                                          29999 non-null  int64  \n",
            " 144  Your accounts : access other Google services (D)                                        29999 non-null  int64  \n",
            " 145  Your accounts : act as an account authenticator (D)                                     29999 non-null  int64  \n",
            " 146  Your accounts : act as the AccountManagerService (S)                                    29999 non-null  int64  \n",
            " 147  Your accounts : contacts data in Google accounts (D)                                    29999 non-null  int64  \n",
            " 148  Your accounts : discover known accounts (S)                                             29999 non-null  int64  \n",
            " 149  Your accounts : manage the accounts list (D)                                            29999 non-null  int64  \n",
            " 150  Your accounts : read Google service configuration (S)                                   29999 non-null  int64  \n",
            " 151  Your accounts : use the authentication credentials of an account (D)                    29999 non-null  int64  \n",
            " 152  Your accounts : view configured accounts (S)                                            29999 non-null  int64  \n",
            " 153  Your location : access extra location provider commands (S)                             29999 non-null  int64  \n",
            " 154  Your location : coarse (network-based) location (D)                                     29999 non-null  int64  \n",
            " 155  Your location : fine (GPS) location (D)                                                 29999 non-null  int64  \n",
            " 156  Your location : mock location sources for testing (D)                                   29999 non-null  int64  \n",
            " 157  Your messages : Read Email attachments (D)                                              29999 non-null  int64  \n",
            " 158  Your messages : Send Gmail (S)                                                          29999 non-null  int64  \n",
            " 159  Your messages : edit SMS or MMS (D)                                                     29999 non-null  int64  \n",
            " 160  Your messages : modify Gmail (D)                                                        29999 non-null  int64  \n",
            " 161  Your messages : read Gmail (D)                                                          29999 non-null  int64  \n",
            " 162  Your messages : read Gmail attachment previews (D)                                      29999 non-null  int64  \n",
            " 163  Your messages : read SMS or MMS (D)                                                     29999 non-null  int64  \n",
            " 164  Your messages : read instant messages (D)                                               29999 non-null  int64  \n",
            " 165  Your messages : receive MMS (D)                                                         29999 non-null  int64  \n",
            " 166  Your messages : receive SMS (D)                                                         29999 non-null  int64  \n",
            " 167  Your messages : receive WAP (D)                                                         29999 non-null  int64  \n",
            " 168  Your messages : send SMS-received broadcast (S)                                         29999 non-null  int64  \n",
            " 169  Your messages : send WAP-PUSH-received broadcast (S)                                    29999 non-null  int64  \n",
            " 170  Your messages : write instant messages (D)                                              29999 non-null  int64  \n",
            " 171  Your personal information : add or modify calendar events and send email to guests (D)  29999 non-null  int64  \n",
            " 172  Your personal information : choose widgets (S)                                          29999 non-null  int64  \n",
            " 173  Your personal information : read Browser's history and bookmarks (D)                    29999 non-null  int64  \n",
            " 174  Your personal information : read calendar events (D)                                    29999 non-null  int64  \n",
            " 175  Your personal information : read contact data (D)                                       29999 non-null  int64  \n",
            " 176  Your personal information : read sensitive log data (D)                                 29999 non-null  int64  \n",
            " 177  Your personal information : read user defined dictionary (D)                            29999 non-null  int64  \n",
            " 178  Your personal information : retrieve system internal state (S)                          29999 non-null  int64  \n",
            " 179  Your personal information : set alarm in alarm clock (S)                                29999 non-null  int64  \n",
            " 180  Your personal information : write Browser's history and bookmarks (D)                   29999 non-null  int64  \n",
            " 181  Your personal information : write contact data (D)                                      29999 non-null  int64  \n",
            " 182  Your personal information : write to user defined dictionary (S)                        29999 non-null  int64  \n",
            " 183  Class                                                                                   29999 non-null  int64  \n",
            "dtypes: float64(3), int64(176), object(5)\n",
            "memory usage: 42.1+ MB\n"
          ]
        }
      ]
    },
    {
      "cell_type": "markdown",
      "source": [
        "\n",
        "\n",
        "---\n",
        "\n"
      ],
      "metadata": {
        "id": "xRazVqKgrvqa"
      }
    },
    {
      "cell_type": "code",
      "source": [
        "#lets check the blank values in Dataset\n",
        "\n",
        "\n",
        "df[df.columns].values.any() == \" \"\n",
        "\n"
      ],
      "metadata": {
        "colab": {
          "base_uri": "https://localhost:8080/"
        },
        "id": "wFyP31HXZo8Z",
        "outputId": "6e4f8132-0b5d-416e-ff26-799d7812d4d0"
      },
      "execution_count": 130,
      "outputs": [
        {
          "output_type": "execute_result",
          "data": {
            "text/plain": [
              "False"
            ]
          },
          "metadata": {},
          "execution_count": 130
        }
      ]
    },
    {
      "cell_type": "markdown",
      "source": [
        "\n",
        "\n",
        "---\n",
        "\n"
      ],
      "metadata": {
        "id": "DfpRFBDQsyTl"
      }
    },
    {
      "cell_type": "code",
      "source": [
        "# lets check the null values in our Dataset\n",
        "\n",
        "\n",
        "\n",
        "col_with_null = []\n",
        "for col in df.columns:\n",
        "    if(df[col].isnull().values.any()):\n",
        "        col_with_null.append(col)\n",
        "\n",
        "\n"
      ],
      "metadata": {
        "id": "GovmcihwP7TP"
      },
      "execution_count": 131,
      "outputs": []
    },
    {
      "cell_type": "code",
      "source": [
        "col_with_null\n",
        "\n"
      ],
      "metadata": {
        "colab": {
          "base_uri": "https://localhost:8080/"
        },
        "id": "Qcb3uQFdZh3N",
        "outputId": "c3d9cdea-ce92-49a0-9f49-1965aa36d155"
      },
      "execution_count": 132,
      "outputs": [
        {
          "output_type": "execute_result",
          "data": {
            "text/plain": [
              "['App', 'Description', 'Related apps', 'Dangerous permissions count']"
            ]
          },
          "metadata": {},
          "execution_count": 132
        }
      ]
    },
    {
      "cell_type": "code",
      "source": [
        "\n",
        "\n",
        "#lets check the number of null values in perticular columns \n",
        "\n",
        "df[col_with_null].isnull().sum()\n",
        "\n"
      ],
      "metadata": {
        "colab": {
          "base_uri": "https://localhost:8080/"
        },
        "id": "0Jrhyl5gbEex",
        "outputId": "38d13080-11d1-422c-bea5-533ea1ce0614"
      },
      "execution_count": 133,
      "outputs": [
        {
          "output_type": "execute_result",
          "data": {
            "text/plain": [
              "App                              1\n",
              "Description                      3\n",
              "Related apps                   755\n",
              "Dangerous permissions count    204\n",
              "dtype: int64"
            ]
          },
          "metadata": {},
          "execution_count": 133
        }
      ]
    },
    {
      "cell_type": "markdown",
      "source": [
        "\n",
        "\n",
        "---\n",
        "\n"
      ],
      "metadata": {
        "id": "P_4QjTNRs2IV"
      }
    },
    {
      "cell_type": "code",
      "source": [
        "# lets check the percentage of our null value in the column\n",
        "# If, Null values percentage  in perticular column are very less then we can drop this."
      ],
      "metadata": {
        "id": "BDdlii_jyH_b"
      },
      "execution_count": 134,
      "outputs": []
    },
    {
      "cell_type": "code",
      "source": [
        "\n",
        "      for col in col_with_null:\n",
        "    percentage = df[col].isnull().sum()*100/len(df)\n",
        "    print(col,percentage) \n"
      ],
      "metadata": {
        "colab": {
          "base_uri": "https://localhost:8080/"
        },
        "id": "mhi5xaMJxtQU",
        "outputId": "8eb1b5ee-d261-4c55-8dd5-5f559f34f5e6"
      },
      "execution_count": 135,
      "outputs": [
        {
          "output_type": "stream",
          "name": "stdout",
          "text": [
            "App 0.0033334444481482716\n",
            "Description 0.010000333344444815\n",
            "Related apps 2.516750558351945\n",
            "Dangerous permissions count 0.6800226674222474\n"
          ]
        }
      ]
    },
    {
      "cell_type": "markdown",
      "source": [
        "\n",
        "\n",
        "---\n",
        "\n"
      ],
      "metadata": {
        "id": "CUzucCsmuq4N"
      }
    },
    {
      "cell_type": "code",
      "source": [
        "# droping null values\n",
        "\n",
        "\n",
        "df.dropna(inplace=True)"
      ],
      "metadata": {
        "id": "QOl7_LNAptH0"
      },
      "execution_count": 136,
      "outputs": []
    },
    {
      "cell_type": "code",
      "source": [
        "\n",
        "\n",
        "df[col_with_null].isnull().sum().sum()"
      ],
      "metadata": {
        "colab": {
          "base_uri": "https://localhost:8080/"
        },
        "id": "QDqyWC9RqkOd",
        "outputId": "568aea7f-aa09-46f4-f1b9-b662a3e8747b"
      },
      "execution_count": 137,
      "outputs": [
        {
          "output_type": "execute_result",
          "data": {
            "text/plain": [
              "0"
            ]
          },
          "metadata": {},
          "execution_count": 137
        }
      ]
    },
    {
      "cell_type": "code",
      "source": [
        "# Now, our Dataset has zero null values."
      ],
      "metadata": {
        "id": "oBtjOLaRtuyz"
      },
      "execution_count": 138,
      "outputs": []
    },
    {
      "cell_type": "markdown",
      "source": [
        "\n",
        "\n",
        "---\n",
        "\n"
      ],
      "metadata": {
        "id": "C3w568ETthoo"
      }
    },
    {
      "cell_type": "code",
      "source": [
        "# check for duplicates value in our Dataset\n",
        "\n",
        "# we will check duplicated value in case of \"package\",  bacause there should be many apps with same name but package must be different. \n",
        " \n",
        "\n",
        "df.duplicated(subset='Package').sum()\n",
        "\n"
      ],
      "metadata": {
        "colab": {
          "base_uri": "https://localhost:8080/"
        },
        "id": "HOhD27LVqX9M",
        "outputId": "967e0944-1e70-4473-c22d-3730ee365da8"
      },
      "execution_count": 139,
      "outputs": [
        {
          "output_type": "execute_result",
          "data": {
            "text/plain": [
              "6425"
            ]
          },
          "metadata": {},
          "execution_count": 139
        }
      ]
    },
    {
      "cell_type": "code",
      "source": [
        "# Remove the Duplicated Entries\n",
        "\n",
        "\n",
        "df.drop_duplicates(subset='Package',inplace=True)\n",
        "\n"
      ],
      "metadata": {
        "id": "3Xqlv69mrblO"
      },
      "execution_count": 140,
      "outputs": []
    },
    {
      "cell_type": "markdown",
      "source": [
        "\n",
        "\n",
        "---\n",
        "\n"
      ],
      "metadata": {
        "id": "JvzPRMjW0oMs"
      }
    },
    {
      "cell_type": "code",
      "source": [
        "# lets remove the unnesessury columns \n",
        "\n",
        "# we have to predict App is Malware or benign , we don't need - App name ,Package, Its description , and related apps\n",
        "\n",
        "\n",
        "df.drop([\"App\",\"Description\",\"Related apps\",\"Package\"], axis=1, inplace=True)\n",
        "\n"
      ],
      "metadata": {
        "id": "4IdMCHRAz1BG"
      },
      "execution_count": 141,
      "outputs": []
    },
    {
      "cell_type": "markdown",
      "source": [
        "\n",
        "\n",
        "---\n",
        "\n"
      ],
      "metadata": {
        "id": "pCz_Qpno2rjy"
      }
    },
    {
      "cell_type": "code",
      "source": [
        "df.describe()"
      ],
      "metadata": {
        "colab": {
          "base_uri": "https://localhost:8080/",
          "height": 515
        },
        "id": "bHSRwUHZ1vS6",
        "outputId": "6614265b-aa14-4734-d976-fa50cf6df113"
      },
      "execution_count": 142,
      "outputs": [
        {
          "output_type": "execute_result",
          "data": {
            "text/plain": [
              "             Rating  Number of ratings         Price  \\\n",
              "count  22815.000000       2.281500e+04  22815.000000   \n",
              "mean       3.496581       2.477348e+03      0.611544   \n",
              "std        1.439069       2.423797e+04      3.110506   \n",
              "min        0.000000       0.000000e+00      0.000000   \n",
              "25%        3.200000       3.000000e+00      0.000000   \n",
              "50%        4.000000       2.700000e+01      0.000000   \n",
              "75%        4.400000       2.690000e+02      0.000000   \n",
              "max        5.000000       1.897171e+06    158.070000   \n",
              "\n",
              "       Dangerous permissions count  Safe permissions count  \\\n",
              "count                 22815.000000            22815.000000   \n",
              "mean                      2.844927                1.223669   \n",
              "std                       2.811604                1.419961   \n",
              "min                       0.000000                0.000000   \n",
              "25%                       1.000000                0.000000   \n",
              "50%                       2.000000                1.000000   \n",
              "75%                       4.000000                2.000000   \n",
              "max                      30.000000               16.000000   \n",
              "\n",
              "       Default : Access DRM content. (S)  \\\n",
              "count                       22815.000000   \n",
              "mean                            0.000263   \n",
              "std                             0.016215   \n",
              "min                             0.000000   \n",
              "25%                             0.000000   \n",
              "50%                             0.000000   \n",
              "75%                             0.000000   \n",
              "max                             1.000000   \n",
              "\n",
              "       Default : Access Email provider data (S)  \\\n",
              "count                              22815.000000   \n",
              "mean                                   0.000614   \n",
              "std                                    0.024765   \n",
              "min                                    0.000000   \n",
              "25%                                    0.000000   \n",
              "50%                                    0.000000   \n",
              "75%                                    0.000000   \n",
              "max                                    1.000000   \n",
              "\n",
              "       Default : Access all system downloads (S)  \\\n",
              "count                                    22815.0   \n",
              "mean                                         0.0   \n",
              "std                                          0.0   \n",
              "min                                          0.0   \n",
              "25%                                          0.0   \n",
              "50%                                          0.0   \n",
              "75%                                          0.0   \n",
              "max                                          0.0   \n",
              "\n",
              "       Default : Access download manager. (S)  \\\n",
              "count                            22815.000000   \n",
              "mean                                 0.000438   \n",
              "std                                  0.020932   \n",
              "min                                  0.000000   \n",
              "25%                                  0.000000   \n",
              "50%                                  0.000000   \n",
              "75%                                  0.000000   \n",
              "max                                  1.000000   \n",
              "\n",
              "       Default : Advanced download manager functions. (S)  ...  \\\n",
              "count                                       22815.000000   ...   \n",
              "mean                                            0.000044   ...   \n",
              "std                                             0.006620   ...   \n",
              "min                                             0.000000   ...   \n",
              "25%                                             0.000000   ...   \n",
              "50%                                             0.000000   ...   \n",
              "75%                                             0.000000   ...   \n",
              "max                                             1.000000   ...   \n",
              "\n",
              "       Your personal information : read calendar events (D)  \\\n",
              "count                                       22815.000000      \n",
              "mean                                            0.014201      \n",
              "std                                             0.118322      \n",
              "min                                             0.000000      \n",
              "25%                                             0.000000      \n",
              "50%                                             0.000000      \n",
              "75%                                             0.000000      \n",
              "max                                             1.000000      \n",
              "\n",
              "       Your personal information : read contact data (D)  \\\n",
              "count                                       22815.000000   \n",
              "mean                                            0.077011   \n",
              "std                                             0.266614   \n",
              "min                                             0.000000   \n",
              "25%                                             0.000000   \n",
              "50%                                             0.000000   \n",
              "75%                                             0.000000   \n",
              "max                                             1.000000   \n",
              "\n",
              "       Your personal information : read sensitive log data (D)  \\\n",
              "count                                       22815.000000         \n",
              "mean                                            0.019286         \n",
              "std                                             0.137530         \n",
              "min                                             0.000000         \n",
              "25%                                             0.000000         \n",
              "50%                                             0.000000         \n",
              "75%                                             0.000000         \n",
              "max                                             1.000000         \n",
              "\n",
              "       Your personal information : read user defined dictionary (D)  \\\n",
              "count                                       22815.000000              \n",
              "mean                                            0.000964              \n",
              "std                                             0.031039              \n",
              "min                                             0.000000              \n",
              "25%                                             0.000000              \n",
              "50%                                             0.000000              \n",
              "75%                                             0.000000              \n",
              "max                                             1.000000              \n",
              "\n",
              "       Your personal information : retrieve system internal state (S)  \\\n",
              "count                                       22815.000000                \n",
              "mean                                            0.000394                \n",
              "std                                             0.019858                \n",
              "min                                             0.000000                \n",
              "25%                                             0.000000                \n",
              "50%                                             0.000000                \n",
              "75%                                             0.000000                \n",
              "max                                             1.000000                \n",
              "\n",
              "       Your personal information : set alarm in alarm clock (S)  \\\n",
              "count                                       22815.000000          \n",
              "mean                                            0.000394          \n",
              "std                                             0.019858          \n",
              "min                                             0.000000          \n",
              "25%                                             0.000000          \n",
              "50%                                             0.000000          \n",
              "75%                                             0.000000          \n",
              "max                                             1.000000          \n",
              "\n",
              "       Your personal information : write Browser's history and bookmarks (D)  \\\n",
              "count                                       22815.000000                       \n",
              "mean                                            0.014683                       \n",
              "std                                             0.120284                       \n",
              "min                                             0.000000                       \n",
              "25%                                             0.000000                       \n",
              "50%                                             0.000000                       \n",
              "75%                                             0.000000                       \n",
              "max                                             1.000000                       \n",
              "\n",
              "       Your personal information : write contact data (D)  \\\n",
              "count                                       22815.000000    \n",
              "mean                                            0.035065    \n",
              "std                                             0.183947    \n",
              "min                                             0.000000    \n",
              "25%                                             0.000000    \n",
              "50%                                             0.000000    \n",
              "75%                                             0.000000    \n",
              "max                                             1.000000    \n",
              "\n",
              "       Your personal information : write to user defined dictionary (S)  \\\n",
              "count                                       22815.000000                  \n",
              "mean                                            0.001008                  \n",
              "std                                             0.031735                  \n",
              "min                                             0.000000                  \n",
              "25%                                             0.000000                  \n",
              "50%                                             0.000000                  \n",
              "75%                                             0.000000                  \n",
              "max                                             1.000000                  \n",
              "\n",
              "             Class  \n",
              "count  22815.00000  \n",
              "mean       0.66316  \n",
              "std        0.47264  \n",
              "min        0.00000  \n",
              "25%        0.00000  \n",
              "50%        1.00000  \n",
              "75%        1.00000  \n",
              "max        1.00000  \n",
              "\n",
              "[8 rows x 179 columns]"
            ],
            "text/html": [
              "\n",
              "  <div id=\"df-3909dfdb-bbf6-4ac2-820d-444af2eea717\">\n",
              "    <div class=\"colab-df-container\">\n",
              "      <div>\n",
              "<style scoped>\n",
              "    .dataframe tbody tr th:only-of-type {\n",
              "        vertical-align: middle;\n",
              "    }\n",
              "\n",
              "    .dataframe tbody tr th {\n",
              "        vertical-align: top;\n",
              "    }\n",
              "\n",
              "    .dataframe thead th {\n",
              "        text-align: right;\n",
              "    }\n",
              "</style>\n",
              "<table border=\"1\" class=\"dataframe\">\n",
              "  <thead>\n",
              "    <tr style=\"text-align: right;\">\n",
              "      <th></th>\n",
              "      <th>Rating</th>\n",
              "      <th>Number of ratings</th>\n",
              "      <th>Price</th>\n",
              "      <th>Dangerous permissions count</th>\n",
              "      <th>Safe permissions count</th>\n",
              "      <th>Default : Access DRM content. (S)</th>\n",
              "      <th>Default : Access Email provider data (S)</th>\n",
              "      <th>Default : Access all system downloads (S)</th>\n",
              "      <th>Default : Access download manager. (S)</th>\n",
              "      <th>Default : Advanced download manager functions. (S)</th>\n",
              "      <th>...</th>\n",
              "      <th>Your personal information : read calendar events (D)</th>\n",
              "      <th>Your personal information : read contact data (D)</th>\n",
              "      <th>Your personal information : read sensitive log data (D)</th>\n",
              "      <th>Your personal information : read user defined dictionary (D)</th>\n",
              "      <th>Your personal information : retrieve system internal state (S)</th>\n",
              "      <th>Your personal information : set alarm in alarm clock (S)</th>\n",
              "      <th>Your personal information : write Browser's history and bookmarks (D)</th>\n",
              "      <th>Your personal information : write contact data (D)</th>\n",
              "      <th>Your personal information : write to user defined dictionary (S)</th>\n",
              "      <th>Class</th>\n",
              "    </tr>\n",
              "  </thead>\n",
              "  <tbody>\n",
              "    <tr>\n",
              "      <th>count</th>\n",
              "      <td>22815.000000</td>\n",
              "      <td>2.281500e+04</td>\n",
              "      <td>22815.000000</td>\n",
              "      <td>22815.000000</td>\n",
              "      <td>22815.000000</td>\n",
              "      <td>22815.000000</td>\n",
              "      <td>22815.000000</td>\n",
              "      <td>22815.0</td>\n",
              "      <td>22815.000000</td>\n",
              "      <td>22815.000000</td>\n",
              "      <td>...</td>\n",
              "      <td>22815.000000</td>\n",
              "      <td>22815.000000</td>\n",
              "      <td>22815.000000</td>\n",
              "      <td>22815.000000</td>\n",
              "      <td>22815.000000</td>\n",
              "      <td>22815.000000</td>\n",
              "      <td>22815.000000</td>\n",
              "      <td>22815.000000</td>\n",
              "      <td>22815.000000</td>\n",
              "      <td>22815.00000</td>\n",
              "    </tr>\n",
              "    <tr>\n",
              "      <th>mean</th>\n",
              "      <td>3.496581</td>\n",
              "      <td>2.477348e+03</td>\n",
              "      <td>0.611544</td>\n",
              "      <td>2.844927</td>\n",
              "      <td>1.223669</td>\n",
              "      <td>0.000263</td>\n",
              "      <td>0.000614</td>\n",
              "      <td>0.0</td>\n",
              "      <td>0.000438</td>\n",
              "      <td>0.000044</td>\n",
              "      <td>...</td>\n",
              "      <td>0.014201</td>\n",
              "      <td>0.077011</td>\n",
              "      <td>0.019286</td>\n",
              "      <td>0.000964</td>\n",
              "      <td>0.000394</td>\n",
              "      <td>0.000394</td>\n",
              "      <td>0.014683</td>\n",
              "      <td>0.035065</td>\n",
              "      <td>0.001008</td>\n",
              "      <td>0.66316</td>\n",
              "    </tr>\n",
              "    <tr>\n",
              "      <th>std</th>\n",
              "      <td>1.439069</td>\n",
              "      <td>2.423797e+04</td>\n",
              "      <td>3.110506</td>\n",
              "      <td>2.811604</td>\n",
              "      <td>1.419961</td>\n",
              "      <td>0.016215</td>\n",
              "      <td>0.024765</td>\n",
              "      <td>0.0</td>\n",
              "      <td>0.020932</td>\n",
              "      <td>0.006620</td>\n",
              "      <td>...</td>\n",
              "      <td>0.118322</td>\n",
              "      <td>0.266614</td>\n",
              "      <td>0.137530</td>\n",
              "      <td>0.031039</td>\n",
              "      <td>0.019858</td>\n",
              "      <td>0.019858</td>\n",
              "      <td>0.120284</td>\n",
              "      <td>0.183947</td>\n",
              "      <td>0.031735</td>\n",
              "      <td>0.47264</td>\n",
              "    </tr>\n",
              "    <tr>\n",
              "      <th>min</th>\n",
              "      <td>0.000000</td>\n",
              "      <td>0.000000e+00</td>\n",
              "      <td>0.000000</td>\n",
              "      <td>0.000000</td>\n",
              "      <td>0.000000</td>\n",
              "      <td>0.000000</td>\n",
              "      <td>0.000000</td>\n",
              "      <td>0.0</td>\n",
              "      <td>0.000000</td>\n",
              "      <td>0.000000</td>\n",
              "      <td>...</td>\n",
              "      <td>0.000000</td>\n",
              "      <td>0.000000</td>\n",
              "      <td>0.000000</td>\n",
              "      <td>0.000000</td>\n",
              "      <td>0.000000</td>\n",
              "      <td>0.000000</td>\n",
              "      <td>0.000000</td>\n",
              "      <td>0.000000</td>\n",
              "      <td>0.000000</td>\n",
              "      <td>0.00000</td>\n",
              "    </tr>\n",
              "    <tr>\n",
              "      <th>25%</th>\n",
              "      <td>3.200000</td>\n",
              "      <td>3.000000e+00</td>\n",
              "      <td>0.000000</td>\n",
              "      <td>1.000000</td>\n",
              "      <td>0.000000</td>\n",
              "      <td>0.000000</td>\n",
              "      <td>0.000000</td>\n",
              "      <td>0.0</td>\n",
              "      <td>0.000000</td>\n",
              "      <td>0.000000</td>\n",
              "      <td>...</td>\n",
              "      <td>0.000000</td>\n",
              "      <td>0.000000</td>\n",
              "      <td>0.000000</td>\n",
              "      <td>0.000000</td>\n",
              "      <td>0.000000</td>\n",
              "      <td>0.000000</td>\n",
              "      <td>0.000000</td>\n",
              "      <td>0.000000</td>\n",
              "      <td>0.000000</td>\n",
              "      <td>0.00000</td>\n",
              "    </tr>\n",
              "    <tr>\n",
              "      <th>50%</th>\n",
              "      <td>4.000000</td>\n",
              "      <td>2.700000e+01</td>\n",
              "      <td>0.000000</td>\n",
              "      <td>2.000000</td>\n",
              "      <td>1.000000</td>\n",
              "      <td>0.000000</td>\n",
              "      <td>0.000000</td>\n",
              "      <td>0.0</td>\n",
              "      <td>0.000000</td>\n",
              "      <td>0.000000</td>\n",
              "      <td>...</td>\n",
              "      <td>0.000000</td>\n",
              "      <td>0.000000</td>\n",
              "      <td>0.000000</td>\n",
              "      <td>0.000000</td>\n",
              "      <td>0.000000</td>\n",
              "      <td>0.000000</td>\n",
              "      <td>0.000000</td>\n",
              "      <td>0.000000</td>\n",
              "      <td>0.000000</td>\n",
              "      <td>1.00000</td>\n",
              "    </tr>\n",
              "    <tr>\n",
              "      <th>75%</th>\n",
              "      <td>4.400000</td>\n",
              "      <td>2.690000e+02</td>\n",
              "      <td>0.000000</td>\n",
              "      <td>4.000000</td>\n",
              "      <td>2.000000</td>\n",
              "      <td>0.000000</td>\n",
              "      <td>0.000000</td>\n",
              "      <td>0.0</td>\n",
              "      <td>0.000000</td>\n",
              "      <td>0.000000</td>\n",
              "      <td>...</td>\n",
              "      <td>0.000000</td>\n",
              "      <td>0.000000</td>\n",
              "      <td>0.000000</td>\n",
              "      <td>0.000000</td>\n",
              "      <td>0.000000</td>\n",
              "      <td>0.000000</td>\n",
              "      <td>0.000000</td>\n",
              "      <td>0.000000</td>\n",
              "      <td>0.000000</td>\n",
              "      <td>1.00000</td>\n",
              "    </tr>\n",
              "    <tr>\n",
              "      <th>max</th>\n",
              "      <td>5.000000</td>\n",
              "      <td>1.897171e+06</td>\n",
              "      <td>158.070000</td>\n",
              "      <td>30.000000</td>\n",
              "      <td>16.000000</td>\n",
              "      <td>1.000000</td>\n",
              "      <td>1.000000</td>\n",
              "      <td>0.0</td>\n",
              "      <td>1.000000</td>\n",
              "      <td>1.000000</td>\n",
              "      <td>...</td>\n",
              "      <td>1.000000</td>\n",
              "      <td>1.000000</td>\n",
              "      <td>1.000000</td>\n",
              "      <td>1.000000</td>\n",
              "      <td>1.000000</td>\n",
              "      <td>1.000000</td>\n",
              "      <td>1.000000</td>\n",
              "      <td>1.000000</td>\n",
              "      <td>1.000000</td>\n",
              "      <td>1.00000</td>\n",
              "    </tr>\n",
              "  </tbody>\n",
              "</table>\n",
              "<p>8 rows × 179 columns</p>\n",
              "</div>\n",
              "      <button class=\"colab-df-convert\" onclick=\"convertToInteractive('df-3909dfdb-bbf6-4ac2-820d-444af2eea717')\"\n",
              "              title=\"Convert this dataframe to an interactive table.\"\n",
              "              style=\"display:none;\">\n",
              "        \n",
              "  <svg xmlns=\"http://www.w3.org/2000/svg\" height=\"24px\"viewBox=\"0 0 24 24\"\n",
              "       width=\"24px\">\n",
              "    <path d=\"M0 0h24v24H0V0z\" fill=\"none\"/>\n",
              "    <path d=\"M18.56 5.44l.94 2.06.94-2.06 2.06-.94-2.06-.94-.94-2.06-.94 2.06-2.06.94zm-11 1L8.5 8.5l.94-2.06 2.06-.94-2.06-.94L8.5 2.5l-.94 2.06-2.06.94zm10 10l.94 2.06.94-2.06 2.06-.94-2.06-.94-.94-2.06-.94 2.06-2.06.94z\"/><path d=\"M17.41 7.96l-1.37-1.37c-.4-.4-.92-.59-1.43-.59-.52 0-1.04.2-1.43.59L10.3 9.45l-7.72 7.72c-.78.78-.78 2.05 0 2.83L4 21.41c.39.39.9.59 1.41.59.51 0 1.02-.2 1.41-.59l7.78-7.78 2.81-2.81c.8-.78.8-2.07 0-2.86zM5.41 20L4 18.59l7.72-7.72 1.47 1.35L5.41 20z\"/>\n",
              "  </svg>\n",
              "      </button>\n",
              "      \n",
              "  <style>\n",
              "    .colab-df-container {\n",
              "      display:flex;\n",
              "      flex-wrap:wrap;\n",
              "      gap: 12px;\n",
              "    }\n",
              "\n",
              "    .colab-df-convert {\n",
              "      background-color: #E8F0FE;\n",
              "      border: none;\n",
              "      border-radius: 50%;\n",
              "      cursor: pointer;\n",
              "      display: none;\n",
              "      fill: #1967D2;\n",
              "      height: 32px;\n",
              "      padding: 0 0 0 0;\n",
              "      width: 32px;\n",
              "    }\n",
              "\n",
              "    .colab-df-convert:hover {\n",
              "      background-color: #E2EBFA;\n",
              "      box-shadow: 0px 1px 2px rgba(60, 64, 67, 0.3), 0px 1px 3px 1px rgba(60, 64, 67, 0.15);\n",
              "      fill: #174EA6;\n",
              "    }\n",
              "\n",
              "    [theme=dark] .colab-df-convert {\n",
              "      background-color: #3B4455;\n",
              "      fill: #D2E3FC;\n",
              "    }\n",
              "\n",
              "    [theme=dark] .colab-df-convert:hover {\n",
              "      background-color: #434B5C;\n",
              "      box-shadow: 0px 1px 3px 1px rgba(0, 0, 0, 0.15);\n",
              "      filter: drop-shadow(0px 1px 2px rgba(0, 0, 0, 0.3));\n",
              "      fill: #FFFFFF;\n",
              "    }\n",
              "  </style>\n",
              "\n",
              "      <script>\n",
              "        const buttonEl =\n",
              "          document.querySelector('#df-3909dfdb-bbf6-4ac2-820d-444af2eea717 button.colab-df-convert');\n",
              "        buttonEl.style.display =\n",
              "          google.colab.kernel.accessAllowed ? 'block' : 'none';\n",
              "\n",
              "        async function convertToInteractive(key) {\n",
              "          const element = document.querySelector('#df-3909dfdb-bbf6-4ac2-820d-444af2eea717');\n",
              "          const dataTable =\n",
              "            await google.colab.kernel.invokeFunction('convertToInteractive',\n",
              "                                                     [key], {});\n",
              "          if (!dataTable) return;\n",
              "\n",
              "          const docLinkHtml = 'Like what you see? Visit the ' +\n",
              "            '<a target=\"_blank\" href=https://colab.research.google.com/notebooks/data_table.ipynb>data table notebook</a>'\n",
              "            + ' to learn more about interactive tables.';\n",
              "          element.innerHTML = '';\n",
              "          dataTable['output_type'] = 'display_data';\n",
              "          await google.colab.output.renderOutput(dataTable, element);\n",
              "          const docLink = document.createElement('div');\n",
              "          docLink.innerHTML = docLinkHtml;\n",
              "          element.appendChild(docLink);\n",
              "        }\n",
              "      </script>\n",
              "    </div>\n",
              "  </div>\n",
              "  "
            ]
          },
          "metadata": {},
          "execution_count": 142
        }
      ]
    },
    {
      "cell_type": "code",
      "source": [
        "\n",
        "\n",
        "#From description table we seen that there are columns pressent with all values are zero, there are no use in prediction so we can drop that."
      ],
      "metadata": {
        "id": "4472mq-56kbi"
      },
      "execution_count": 143,
      "outputs": []
    },
    {
      "cell_type": "markdown",
      "source": [
        "\n",
        "\n",
        "---\n",
        "\n"
      ],
      "metadata": {
        "id": "dqkSf1-87-l9"
      }
    },
    {
      "cell_type": "code",
      "source": [
        "# lets check how many & which columns cantains all zeros value."
      ],
      "metadata": {
        "id": "e2uG0pft8Ck1"
      },
      "execution_count": 144,
      "outputs": []
    },
    {
      "cell_type": "code",
      "source": [
        "\n",
        "\n",
        "col_with_all_zeros=[]\n",
        "for col in df.describe().columns:\n",
        "    if df[col].max()==0 :\n",
        "        col_with_all_zeros.append(col)\n"
      ],
      "metadata": {
        "id": "iECTDQzA4-Nl"
      },
      "execution_count": 145,
      "outputs": []
    },
    {
      "cell_type": "code",
      "source": [
        "len(col_with_all_zeros)"
      ],
      "metadata": {
        "colab": {
          "base_uri": "https://localhost:8080/"
        },
        "id": "QH_LP1x351JM",
        "outputId": "ee1a77ea-8d32-4c23-940b-ba791df16969"
      },
      "execution_count": 146,
      "outputs": [
        {
          "output_type": "execute_result",
          "data": {
            "text/plain": [
              "22"
            ]
          },
          "metadata": {},
          "execution_count": 146
        }
      ]
    },
    {
      "cell_type": "code",
      "source": [
        "col_with_all_zeros"
      ],
      "metadata": {
        "colab": {
          "base_uri": "https://localhost:8080/"
        },
        "id": "hgXXczqV6OO-",
        "outputId": "e99af45a-57f4-4077-d799-3adac6a925f8"
      },
      "execution_count": 147,
      "outputs": [
        {
          "output_type": "execute_result",
          "data": {
            "text/plain": [
              "['Default : Access all system downloads (S)',\n",
              " 'Default : Modify Google service configuration (S)',\n",
              " 'Default : access to passwords for Google accounts (S)',\n",
              " 'Default : act as an account authenticator (S)',\n",
              " 'Default : coarse (network-based) location (S)',\n",
              " 'Default : discover known accounts (S)',\n",
              " 'Default : full Internet access (S)',\n",
              " 'Default : mock location sources for testing (S)',\n",
              " 'Default : modify/delete USB storage contents modify/delete SD card contents (S)',\n",
              " 'Default : permanently disable device (S)',\n",
              " 'Default : read instant messages (S)',\n",
              " 'Default : reset system to factory defaults (S)',\n",
              " 'Default : run in factory test mode (S)',\n",
              " 'Default : set wallpaper size hints (S)',\n",
              " 'Default : start IM service (S)',\n",
              " 'Default : write contact data (S)',\n",
              " 'Default : write instant messages (S)',\n",
              " 'Network communication : download files without notification (S)',\n",
              " 'System tools : change background data usage setting (S)',\n",
              " 'Your accounts : Blogger (D)',\n",
              " 'Your messages : read Gmail attachment previews (D)',\n",
              " 'Your messages : write instant messages (D)']"
            ]
          },
          "metadata": {},
          "execution_count": 147
        }
      ]
    },
    {
      "cell_type": "code",
      "source": [
        "# droping columns with all zeros \n",
        "\n",
        "for col in col_with_all_zeros:\n",
        "  df.drop(col,inplace=True,axis=1)"
      ],
      "metadata": {
        "id": "qHRMq_WC7RlX"
      },
      "execution_count": 148,
      "outputs": []
    },
    {
      "cell_type": "markdown",
      "source": [
        "\n",
        "\n",
        "---\n",
        "\n"
      ],
      "metadata": {
        "id": "5gPXGRw98hBb"
      }
    },
    {
      "cell_type": "code",
      "source": [
        "\n",
        "# Now, lets check the number of rows & columns in Dataset\n",
        "\n",
        "df.shape"
      ],
      "metadata": {
        "colab": {
          "base_uri": "https://localhost:8080/"
        },
        "id": "6XV8_VU-7mpi",
        "outputId": "ca8c96ae-df90-4a03-e75f-ceefd0b12851"
      },
      "execution_count": 149,
      "outputs": [
        {
          "output_type": "execute_result",
          "data": {
            "text/plain": [
              "(22815, 158)"
            ]
          },
          "metadata": {},
          "execution_count": 149
        }
      ]
    },
    {
      "cell_type": "code",
      "source": [
        "# Our dataset cantains    rows = 22815 & columns = 159 "
      ],
      "metadata": {
        "id": "NgIn1dhC9Cpd"
      },
      "execution_count": 150,
      "outputs": []
    },
    {
      "cell_type": "markdown",
      "source": [
        "\n",
        "\n",
        "---\n",
        "\n"
      ],
      "metadata": {
        "id": "HCo6t16R9S8a"
      }
    },
    {
      "cell_type": "code",
      "source": [
        "df.head()"
      ],
      "metadata": {
        "id": "MNkvOAH989ud",
        "colab": {
          "base_uri": "https://localhost:8080/",
          "height": 436
        },
        "outputId": "ca88ca12-13b5-423b-dd2f-b20698f2e75f"
      },
      "execution_count": 151,
      "outputs": [
        {
          "output_type": "execute_result",
          "data": {
            "text/plain": [
              "           Category  Rating  Number of ratings  Price  \\\n",
              "0          Business     3.1                 77    0.0   \n",
              "1    Brain & Puzzle     4.3                199    0.0   \n",
              "2    Cards & Casino     4.1                243    0.0   \n",
              "3  Libraries & Demo     3.6               2589    0.0   \n",
              "5   Personalization     4.5                 16    0.0   \n",
              "\n",
              "   Dangerous permissions count  Safe permissions count  \\\n",
              "0                          7.0                       1   \n",
              "1                          3.0                       2   \n",
              "2                          1.0                       1   \n",
              "3                          0.0                       0   \n",
              "5                          3.0                       1   \n",
              "\n",
              "   Default : Access DRM content. (S)  \\\n",
              "0                                  0   \n",
              "1                                  0   \n",
              "2                                  0   \n",
              "3                                  0   \n",
              "5                                  0   \n",
              "\n",
              "   Default : Access Email provider data (S)  \\\n",
              "0                                         0   \n",
              "1                                         0   \n",
              "2                                         0   \n",
              "3                                         0   \n",
              "5                                         0   \n",
              "\n",
              "   Default : Access download manager. (S)  \\\n",
              "0                                       0   \n",
              "1                                       0   \n",
              "2                                       0   \n",
              "3                                       0   \n",
              "5                                       0   \n",
              "\n",
              "   Default : Advanced download manager functions. (S)  ...  \\\n",
              "0                                                  0   ...   \n",
              "1                                                  0   ...   \n",
              "2                                                  0   ...   \n",
              "3                                                  0   ...   \n",
              "5                                                  0   ...   \n",
              "\n",
              "   Your personal information : read calendar events (D)  \\\n",
              "0                                                  0      \n",
              "1                                                  0      \n",
              "2                                                  0      \n",
              "3                                                  0      \n",
              "5                                                  0      \n",
              "\n",
              "   Your personal information : read contact data (D)  \\\n",
              "0                                                  1   \n",
              "1                                                  0   \n",
              "2                                                  0   \n",
              "3                                                  0   \n",
              "5                                                  0   \n",
              "\n",
              "   Your personal information : read sensitive log data (D)  \\\n",
              "0                                                  0         \n",
              "1                                                  0         \n",
              "2                                                  0         \n",
              "3                                                  0         \n",
              "5                                                  0         \n",
              "\n",
              "   Your personal information : read user defined dictionary (D)  \\\n",
              "0                                                  0              \n",
              "1                                                  0              \n",
              "2                                                  0              \n",
              "3                                                  0              \n",
              "5                                                  0              \n",
              "\n",
              "   Your personal information : retrieve system internal state (S)  \\\n",
              "0                                                  0                \n",
              "1                                                  0                \n",
              "2                                                  0                \n",
              "3                                                  0                \n",
              "5                                                  0                \n",
              "\n",
              "   Your personal information : set alarm in alarm clock (S)  \\\n",
              "0                                                  0          \n",
              "1                                                  0          \n",
              "2                                                  0          \n",
              "3                                                  0          \n",
              "5                                                  0          \n",
              "\n",
              "   Your personal information : write Browser's history and bookmarks (D)  \\\n",
              "0                                                  0                       \n",
              "1                                                  0                       \n",
              "2                                                  0                       \n",
              "3                                                  0                       \n",
              "5                                                  0                       \n",
              "\n",
              "   Your personal information : write contact data (D)  \\\n",
              "0                                                  1    \n",
              "1                                                  0    \n",
              "2                                                  0    \n",
              "3                                                  0    \n",
              "5                                                  0    \n",
              "\n",
              "   Your personal information : write to user defined dictionary (S)  Class  \n",
              "0                                                  0                     0  \n",
              "1                                                  0                     0  \n",
              "2                                                  0                     0  \n",
              "3                                                  0                     0  \n",
              "5                                                  0                     0  \n",
              "\n",
              "[5 rows x 158 columns]"
            ],
            "text/html": [
              "\n",
              "  <div id=\"df-0d2dac3f-3723-4043-bc5e-830933a4019e\">\n",
              "    <div class=\"colab-df-container\">\n",
              "      <div>\n",
              "<style scoped>\n",
              "    .dataframe tbody tr th:only-of-type {\n",
              "        vertical-align: middle;\n",
              "    }\n",
              "\n",
              "    .dataframe tbody tr th {\n",
              "        vertical-align: top;\n",
              "    }\n",
              "\n",
              "    .dataframe thead th {\n",
              "        text-align: right;\n",
              "    }\n",
              "</style>\n",
              "<table border=\"1\" class=\"dataframe\">\n",
              "  <thead>\n",
              "    <tr style=\"text-align: right;\">\n",
              "      <th></th>\n",
              "      <th>Category</th>\n",
              "      <th>Rating</th>\n",
              "      <th>Number of ratings</th>\n",
              "      <th>Price</th>\n",
              "      <th>Dangerous permissions count</th>\n",
              "      <th>Safe permissions count</th>\n",
              "      <th>Default : Access DRM content. (S)</th>\n",
              "      <th>Default : Access Email provider data (S)</th>\n",
              "      <th>Default : Access download manager. (S)</th>\n",
              "      <th>Default : Advanced download manager functions. (S)</th>\n",
              "      <th>...</th>\n",
              "      <th>Your personal information : read calendar events (D)</th>\n",
              "      <th>Your personal information : read contact data (D)</th>\n",
              "      <th>Your personal information : read sensitive log data (D)</th>\n",
              "      <th>Your personal information : read user defined dictionary (D)</th>\n",
              "      <th>Your personal information : retrieve system internal state (S)</th>\n",
              "      <th>Your personal information : set alarm in alarm clock (S)</th>\n",
              "      <th>Your personal information : write Browser's history and bookmarks (D)</th>\n",
              "      <th>Your personal information : write contact data (D)</th>\n",
              "      <th>Your personal information : write to user defined dictionary (S)</th>\n",
              "      <th>Class</th>\n",
              "    </tr>\n",
              "  </thead>\n",
              "  <tbody>\n",
              "    <tr>\n",
              "      <th>0</th>\n",
              "      <td>Business</td>\n",
              "      <td>3.1</td>\n",
              "      <td>77</td>\n",
              "      <td>0.0</td>\n",
              "      <td>7.0</td>\n",
              "      <td>1</td>\n",
              "      <td>0</td>\n",
              "      <td>0</td>\n",
              "      <td>0</td>\n",
              "      <td>0</td>\n",
              "      <td>...</td>\n",
              "      <td>0</td>\n",
              "      <td>1</td>\n",
              "      <td>0</td>\n",
              "      <td>0</td>\n",
              "      <td>0</td>\n",
              "      <td>0</td>\n",
              "      <td>0</td>\n",
              "      <td>1</td>\n",
              "      <td>0</td>\n",
              "      <td>0</td>\n",
              "    </tr>\n",
              "    <tr>\n",
              "      <th>1</th>\n",
              "      <td>Brain &amp; Puzzle</td>\n",
              "      <td>4.3</td>\n",
              "      <td>199</td>\n",
              "      <td>0.0</td>\n",
              "      <td>3.0</td>\n",
              "      <td>2</td>\n",
              "      <td>0</td>\n",
              "      <td>0</td>\n",
              "      <td>0</td>\n",
              "      <td>0</td>\n",
              "      <td>...</td>\n",
              "      <td>0</td>\n",
              "      <td>0</td>\n",
              "      <td>0</td>\n",
              "      <td>0</td>\n",
              "      <td>0</td>\n",
              "      <td>0</td>\n",
              "      <td>0</td>\n",
              "      <td>0</td>\n",
              "      <td>0</td>\n",
              "      <td>0</td>\n",
              "    </tr>\n",
              "    <tr>\n",
              "      <th>2</th>\n",
              "      <td>Cards &amp; Casino</td>\n",
              "      <td>4.1</td>\n",
              "      <td>243</td>\n",
              "      <td>0.0</td>\n",
              "      <td>1.0</td>\n",
              "      <td>1</td>\n",
              "      <td>0</td>\n",
              "      <td>0</td>\n",
              "      <td>0</td>\n",
              "      <td>0</td>\n",
              "      <td>...</td>\n",
              "      <td>0</td>\n",
              "      <td>0</td>\n",
              "      <td>0</td>\n",
              "      <td>0</td>\n",
              "      <td>0</td>\n",
              "      <td>0</td>\n",
              "      <td>0</td>\n",
              "      <td>0</td>\n",
              "      <td>0</td>\n",
              "      <td>0</td>\n",
              "    </tr>\n",
              "    <tr>\n",
              "      <th>3</th>\n",
              "      <td>Libraries &amp; Demo</td>\n",
              "      <td>3.6</td>\n",
              "      <td>2589</td>\n",
              "      <td>0.0</td>\n",
              "      <td>0.0</td>\n",
              "      <td>0</td>\n",
              "      <td>0</td>\n",
              "      <td>0</td>\n",
              "      <td>0</td>\n",
              "      <td>0</td>\n",
              "      <td>...</td>\n",
              "      <td>0</td>\n",
              "      <td>0</td>\n",
              "      <td>0</td>\n",
              "      <td>0</td>\n",
              "      <td>0</td>\n",
              "      <td>0</td>\n",
              "      <td>0</td>\n",
              "      <td>0</td>\n",
              "      <td>0</td>\n",
              "      <td>0</td>\n",
              "    </tr>\n",
              "    <tr>\n",
              "      <th>5</th>\n",
              "      <td>Personalization</td>\n",
              "      <td>4.5</td>\n",
              "      <td>16</td>\n",
              "      <td>0.0</td>\n",
              "      <td>3.0</td>\n",
              "      <td>1</td>\n",
              "      <td>0</td>\n",
              "      <td>0</td>\n",
              "      <td>0</td>\n",
              "      <td>0</td>\n",
              "      <td>...</td>\n",
              "      <td>0</td>\n",
              "      <td>0</td>\n",
              "      <td>0</td>\n",
              "      <td>0</td>\n",
              "      <td>0</td>\n",
              "      <td>0</td>\n",
              "      <td>0</td>\n",
              "      <td>0</td>\n",
              "      <td>0</td>\n",
              "      <td>0</td>\n",
              "    </tr>\n",
              "  </tbody>\n",
              "</table>\n",
              "<p>5 rows × 158 columns</p>\n",
              "</div>\n",
              "      <button class=\"colab-df-convert\" onclick=\"convertToInteractive('df-0d2dac3f-3723-4043-bc5e-830933a4019e')\"\n",
              "              title=\"Convert this dataframe to an interactive table.\"\n",
              "              style=\"display:none;\">\n",
              "        \n",
              "  <svg xmlns=\"http://www.w3.org/2000/svg\" height=\"24px\"viewBox=\"0 0 24 24\"\n",
              "       width=\"24px\">\n",
              "    <path d=\"M0 0h24v24H0V0z\" fill=\"none\"/>\n",
              "    <path d=\"M18.56 5.44l.94 2.06.94-2.06 2.06-.94-2.06-.94-.94-2.06-.94 2.06-2.06.94zm-11 1L8.5 8.5l.94-2.06 2.06-.94-2.06-.94L8.5 2.5l-.94 2.06-2.06.94zm10 10l.94 2.06.94-2.06 2.06-.94-2.06-.94-.94-2.06-.94 2.06-2.06.94z\"/><path d=\"M17.41 7.96l-1.37-1.37c-.4-.4-.92-.59-1.43-.59-.52 0-1.04.2-1.43.59L10.3 9.45l-7.72 7.72c-.78.78-.78 2.05 0 2.83L4 21.41c.39.39.9.59 1.41.59.51 0 1.02-.2 1.41-.59l7.78-7.78 2.81-2.81c.8-.78.8-2.07 0-2.86zM5.41 20L4 18.59l7.72-7.72 1.47 1.35L5.41 20z\"/>\n",
              "  </svg>\n",
              "      </button>\n",
              "      \n",
              "  <style>\n",
              "    .colab-df-container {\n",
              "      display:flex;\n",
              "      flex-wrap:wrap;\n",
              "      gap: 12px;\n",
              "    }\n",
              "\n",
              "    .colab-df-convert {\n",
              "      background-color: #E8F0FE;\n",
              "      border: none;\n",
              "      border-radius: 50%;\n",
              "      cursor: pointer;\n",
              "      display: none;\n",
              "      fill: #1967D2;\n",
              "      height: 32px;\n",
              "      padding: 0 0 0 0;\n",
              "      width: 32px;\n",
              "    }\n",
              "\n",
              "    .colab-df-convert:hover {\n",
              "      background-color: #E2EBFA;\n",
              "      box-shadow: 0px 1px 2px rgba(60, 64, 67, 0.3), 0px 1px 3px 1px rgba(60, 64, 67, 0.15);\n",
              "      fill: #174EA6;\n",
              "    }\n",
              "\n",
              "    [theme=dark] .colab-df-convert {\n",
              "      background-color: #3B4455;\n",
              "      fill: #D2E3FC;\n",
              "    }\n",
              "\n",
              "    [theme=dark] .colab-df-convert:hover {\n",
              "      background-color: #434B5C;\n",
              "      box-shadow: 0px 1px 3px 1px rgba(0, 0, 0, 0.15);\n",
              "      filter: drop-shadow(0px 1px 2px rgba(0, 0, 0, 0.3));\n",
              "      fill: #FFFFFF;\n",
              "    }\n",
              "  </style>\n",
              "\n",
              "      <script>\n",
              "        const buttonEl =\n",
              "          document.querySelector('#df-0d2dac3f-3723-4043-bc5e-830933a4019e button.colab-df-convert');\n",
              "        buttonEl.style.display =\n",
              "          google.colab.kernel.accessAllowed ? 'block' : 'none';\n",
              "\n",
              "        async function convertToInteractive(key) {\n",
              "          const element = document.querySelector('#df-0d2dac3f-3723-4043-bc5e-830933a4019e');\n",
              "          const dataTable =\n",
              "            await google.colab.kernel.invokeFunction('convertToInteractive',\n",
              "                                                     [key], {});\n",
              "          if (!dataTable) return;\n",
              "\n",
              "          const docLinkHtml = 'Like what you see? Visit the ' +\n",
              "            '<a target=\"_blank\" href=https://colab.research.google.com/notebooks/data_table.ipynb>data table notebook</a>'\n",
              "            + ' to learn more about interactive tables.';\n",
              "          element.innerHTML = '';\n",
              "          dataTable['output_type'] = 'display_data';\n",
              "          await google.colab.output.renderOutput(dataTable, element);\n",
              "          const docLink = document.createElement('div');\n",
              "          docLink.innerHTML = docLinkHtml;\n",
              "          element.appendChild(docLink);\n",
              "        }\n",
              "      </script>\n",
              "    </div>\n",
              "  </div>\n",
              "  "
            ]
          },
          "metadata": {},
          "execution_count": 151
        }
      ]
    },
    {
      "cell_type": "markdown",
      "source": [
        "\n",
        "\n",
        "---\n",
        "\n",
        "\n",
        "\n",
        "---\n",
        "\n"
      ],
      "metadata": {
        "id": "nqeaLvAmu_kP"
      }
    },
    {
      "cell_type": "code",
      "source": [
        "# Now, let's do some EDA \n",
        "\n",
        "\n",
        "\n"
      ],
      "metadata": {
        "id": "673cTKMkufle"
      },
      "execution_count": 152,
      "outputs": []
    },
    {
      "cell_type": "code",
      "source": [
        "#let do analysis on Cotegory of App\n",
        "\n",
        "\n",
        "plt.figure(figsize=(10,2),dpi=200)\n",
        "sns.countplot(df['Category'],palette='crest')\n",
        "plt.xticks(rotation=90,fontsize=5)\n"
      ],
      "metadata": {
        "colab": {
          "base_uri": "https://localhost:8080/",
          "height": 655
        },
        "id": "cYa9eWQBk69q",
        "outputId": "fd048e0b-5afb-4450-f0a2-847efcb7c789"
      },
      "execution_count": 214,
      "outputs": [
        {
          "output_type": "stream",
          "name": "stderr",
          "text": [
            "/usr/local/lib/python3.8/dist-packages/seaborn/_decorators.py:36: FutureWarning: Pass the following variable as a keyword arg: x. From version 0.12, the only valid positional argument will be `data`, and passing other arguments without an explicit keyword will result in an error or misinterpretation.\n",
            "  warnings.warn(\n"
          ]
        },
        {
          "output_type": "execute_result",
          "data": {
            "text/plain": [
              "(array([ 0,  1,  2,  3,  4,  5,  6,  7,  8,  9, 10, 11, 12, 13, 14, 15, 16,\n",
              "        17, 18, 19, 20, 21, 22, 23, 24, 25, 26, 27, 28, 29]),\n",
              " <a list of 30 Text major ticklabel objects>)"
            ]
          },
          "metadata": {},
          "execution_count": 214
        },
        {
          "output_type": "display_data",
          "data": {
            "text/plain": [
              "<Figure size 2000x400 with 1 Axes>"
            ],
            "image/png": "[encoded data removed]"
          },
          "metadata": {
            "needs_background": "light"
          }
        }
      ]
    },
    {
      "cell_type": "code",
      "source": [
        "# from the visualization we seen that , most of the apps with Entertainment Cotegory & least is Weather Cotegory "
      ],
      "metadata": {
        "id": "JDxAzFL_waZA"
      },
      "execution_count": 154,
      "outputs": []
    },
    {
      "cell_type": "markdown",
      "source": [
        "\n",
        "\n",
        "---\n",
        "\n",
        "\n",
        "\n",
        "---\n",
        "\n"
      ],
      "metadata": {
        "id": "T82o9itExIZ7"
      }
    },
    {
      "cell_type": "code",
      "source": [
        "# Now, lets see this cotegory w.r.t. malware \n",
        "\n",
        "df['Class'] = df['Class'].apply(lambda x: 'malware' if x>0 else 'benign')"
      ],
      "metadata": {
        "id": "8JuqCVMh35Ts"
      },
      "execution_count": 155,
      "outputs": []
    },
    {
      "cell_type": "code",
      "source": [
        "\n",
        "plt.figure(figsize=(10,2),dpi=200)\n",
        "sns.countplot(x='Category',hue='Class',data=df,palette='Greens')\n",
        "plt.xticks(rotation=90,fontsize=5)\n"
      ],
      "metadata": {
        "colab": {
          "base_uri": "https://localhost:8080/",
          "height": 600
        },
        "id": "DslkWk1CqVdq",
        "outputId": "8bf404d5-3e77-4481-cc00-d6e560fdebec"
      },
      "execution_count": 213,
      "outputs": [
        {
          "output_type": "execute_result",
          "data": {
            "text/plain": [
              "(array([ 0,  1,  2,  3,  4,  5,  6,  7,  8,  9, 10, 11, 12, 13, 14, 15, 16,\n",
              "        17, 18, 19, 20, 21, 22, 23, 24, 25, 26, 27, 28, 29]),\n",
              " <a list of 30 Text major ticklabel objects>)"
            ]
          },
          "metadata": {},
          "execution_count": 213
        },
        {
          "output_type": "display_data",
          "data": {
            "text/plain": [
              "<Figure size 2000x400 with 1 Axes>"
            ],
            "image/png": "[encoded data removed]"
          },
          "metadata": {
            "needs_background": "light"
          }
        }
      ]
    },
    {
      "cell_type": "code",
      "source": [
        "# And we seen that the mmost malwaare app is from Entertainment Cotegory, And least malware app is comics apps and Libraries & Demo apps\n"
      ],
      "metadata": {
        "id": "ck9d8w9Hx8_R"
      },
      "execution_count": 157,
      "outputs": []
    },
    {
      "cell_type": "markdown",
      "source": [
        "\n",
        "\n",
        "\n",
        "---\n",
        "\n",
        "\n",
        "\n",
        "---\n",
        "\n"
      ],
      "metadata": {
        "id": "j09P0E2H0ErV"
      }
    },
    {
      "cell_type": "code",
      "source": [
        "# Here , \n",
        "# 1 =  Paid apps\n",
        "# 0 =  Unpaid apps \n",
        "\n",
        "# we seen that, \n",
        "# The apps which are paid has no Genuine apps all the apps belongs to malware which is the category where customer was looted."
      ],
      "metadata": {
        "id": "MuV17_m87lfF"
      },
      "execution_count": null,
      "outputs": []
    },
    {
      "cell_type": "markdown",
      "source": [
        "\n",
        "\n",
        "---\n",
        "\n",
        "\n",
        "\n",
        "---\n",
        "\n"
      ],
      "metadata": {
        "id": "RWVj5QTs9pjs"
      }
    },
    {
      "cell_type": "code",
      "source": [
        "# lets check the number of Ratings to benign & Malware \n",
        "\n",
        "plt.figure(figsize=(8,2),dpi=200,)\n",
        "sns.barplot(x='Category',y='Rating',hue='Class',data=df,palette='Greens')\n",
        "plt.xticks(rotation=90,fontsize=5)"
      ],
      "metadata": {
        "colab": {
          "base_uri": "https://localhost:8080/",
          "height": 600
        },
        "id": "RQmmLrNH9j0Q",
        "outputId": "6a88db83-40af-4b6d-ab02-5c94ec6a07c7"
      },
      "execution_count": 209,
      "outputs": [
        {
          "output_type": "execute_result",
          "data": {
            "text/plain": [
              "(array([ 0,  1,  2,  3,  4,  5,  6,  7,  8,  9, 10, 11, 12, 13, 14, 15, 16,\n",
              "        17, 18, 19, 20, 21, 22, 23, 24, 25, 26, 27, 28, 29]),\n",
              " <a list of 30 Text major ticklabel objects>)"
            ]
          },
          "metadata": {},
          "execution_count": 209
        },
        {
          "output_type": "display_data",
          "data": {
            "text/plain": [
              "<Figure size 1600x400 with 1 Axes>"
            ],
            "image/png": "[encoded data removed]"
          },
          "metadata": {
            "needs_background": "light"
          }
        }
      ]
    },
    {
      "cell_type": "code",
      "source": [
        "# the benign apps have high value Ratings than malware apps \n",
        "\n"
      ],
      "metadata": {
        "id": "qMYQQn1nDAKZ"
      },
      "execution_count": null,
      "outputs": []
    },
    {
      "cell_type": "markdown",
      "source": [
        "\n",
        "\n",
        "---\n",
        "\n",
        "\n",
        "\n",
        "---\n",
        "\n"
      ],
      "metadata": {
        "id": "T_4LFismDNK8"
      }
    },
    {
      "cell_type": "code",
      "source": [
        "#Lets check the number of Rating according to Category\n",
        "\n",
        "\n",
        "plt.figure(figsize=(8,2),dpi=200,)\n",
        "sns.barplot(y='Rating',x='Category',data=df,palette='crest')\n",
        "plt.xticks(rotation=90,fontsize=5)"
      ],
      "metadata": {
        "colab": {
          "base_uri": "https://localhost:8080/",
          "height": 600
        },
        "id": "zpgnWi-oADvo",
        "outputId": "9d29680e-0465-4d36-b293-b0e385ac4802"
      },
      "execution_count": 204,
      "outputs": [
        {
          "output_type": "execute_result",
          "data": {
            "text/plain": [
              "(array([ 0,  1,  2,  3,  4,  5,  6,  7,  8,  9, 10, 11, 12, 13, 14, 15, 16,\n",
              "        17, 18, 19, 20, 21, 22, 23, 24, 25, 26, 27, 28, 29]),\n",
              " <a list of 30 Text major ticklabel objects>)"
            ]
          },
          "metadata": {},
          "execution_count": 204
        },
        {
          "output_type": "display_data",
          "data": {
            "text/plain": [
              "<Figure size 1600x400 with 1 Axes>"
            ],
            "image/png": "[encoded data removed]"
          },
          "metadata": {
            "needs_background": "light"
          }
        }
      ]
    },
    {
      "cell_type": "code",
      "source": [
        "# we know from Previous analysis wheather category has least Number of apps  although it has Highest Rating.\n",
        "# the medical apps have lowest Ratings that is near about 2. "
      ],
      "metadata": {
        "id": "yLHBJkZiCs0l"
      },
      "execution_count": null,
      "outputs": []
    },
    {
      "cell_type": "markdown",
      "source": [
        "\n",
        "\n",
        "---\n",
        "\n",
        "\n",
        "\n",
        "---\n",
        "\n"
      ],
      "metadata": {
        "id": "mF-K5AKoE9Bn"
      }
    },
    {
      "cell_type": "code",
      "source": [
        "# now lets see , Price vs Category\n",
        "\n",
        "plt.figure(figsize=(8,2),dpi=200)\n",
        "sns.barplot(x='Category',y='Price',data=df,palette='crest')\n",
        "\n",
        "plt.xticks(rotation=90,fontsize=5) "
      ],
      "metadata": {
        "colab": {
          "base_uri": "https://localhost:8080/",
          "height": 600
        },
        "id": "2pWhOGFhFJKK",
        "outputId": "d9338be8-30a9-4fc1-c18b-0a99f7ac3d3f"
      },
      "execution_count": 203,
      "outputs": [
        {
          "output_type": "execute_result",
          "data": {
            "text/plain": [
              "(array([ 0,  1,  2,  3,  4,  5,  6,  7,  8,  9, 10, 11, 12, 13, 14, 15, 16,\n",
              "        17, 18, 19, 20, 21, 22, 23, 24, 25, 26, 27, 28, 29]),\n",
              " <a list of 30 Text major ticklabel objects>)"
            ]
          },
          "metadata": {},
          "execution_count": 203
        },
        {
          "output_type": "display_data",
          "data": {
            "text/plain": [
              "<Figure size 1600x400 with 1 Axes>"
            ],
            "image/png": "[encoded data removed]"
          },
          "metadata": {
            "needs_background": "light"
          }
        }
      ]
    },
    {
      "cell_type": "code",
      "source": [
        "#  From the above plot we can conclude that the app which has the lower rating that is (Medical) has the highest price, and the app with the highly rated(Weather) as the lowest price."
      ],
      "metadata": {
        "id": "bfCdNqb-F4Hn"
      },
      "execution_count": null,
      "outputs": []
    }
  ]
}